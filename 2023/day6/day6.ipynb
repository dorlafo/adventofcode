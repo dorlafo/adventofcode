{
 "cells": [
  {
   "cell_type": "code",
   "execution_count": 1,
   "id": "8079ba1f",
   "metadata": {},
   "outputs": [
    {
     "name": "stdout",
     "output_type": "stream",
     "text": [
      "275724\n"
     ]
    }
   ],
   "source": [
    "time = []\n",
    "distance = []\n",
    "with open('input.txt') as f:\n",
    "    for line in f:\n",
    "        if line.startswith(\"Time\"):\n",
    "            time = [int(n) for n in line[len(\"Time:\"):].strip().split(' ') if n != '']\n",
    "        if line.startswith(\"Distance\"):\n",
    "            distance = [int(n) for n in line[len(\"Distance:\"):].strip().split(' ') if n != '']\n",
    "td = []\n",
    "for i in range(len(time)):\n",
    "    td.append({'time':time[i], 'distance':distance[i]})\n",
    "    \n",
    "start_speed = 0\n",
    "speed_increase = 1\n",
    "\n",
    "total_way = 1\n",
    "for e in td:\n",
    "    way = 0\n",
    "    t = e['time']\n",
    "    d = e['distance']\n",
    "    \n",
    "    for i in range(t):\n",
    "        dist = (start_speed+speed_increase*i)* (t-i)\n",
    "        #print(\"distance:\", dist)\n",
    "        if dist > d:\n",
    "            way += 1\n",
    "    total_way *= way\n",
    "        \n",
    "print(total_way)"
   ]
  },
  {
   "cell_type": "markdown",
   "id": "039b035f",
   "metadata": {},
   "source": [
    "## Part 2"
   ]
  },
  {
   "cell_type": "code",
   "execution_count": 1,
   "id": "47fd3d4b",
   "metadata": {},
   "outputs": [],
   "source": [
    "import numpy as np"
   ]
  },
  {
   "cell_type": "code",
   "execution_count": 7,
   "id": "f3f38d71",
   "metadata": {},
   "outputs": [
    {
     "name": "stdout",
     "output_type": "stream",
     "text": [
      "59688274\n",
      "543102016641022\n",
      "37286485\n"
     ]
    }
   ],
   "source": [
    "time = []\n",
    "distance = []\n",
    "with open('input.txt') as f:\n",
    "    for line in f:\n",
    "        if line.startswith(\"Time\"):\n",
    "            time = int(\"\".join([(n) for n in line[len(\"Time:\"):].strip().split(' ') if n != '']))\n",
    "            print(time)\n",
    "        if line.startswith(\"Distance\"):\n",
    "            distance = int(\"\".join([(n) for n in line[len(\"Distance:\"):].strip().split(' ') if n != '']))\n",
    "            print(distance)\n",
    "    \n",
    "start_speed = 0\n",
    "speed_increase = 1\n",
    "\n",
    "way = 0\n",
    "\n",
    "for i in range(time):\n",
    "    dist = (start_speed+speed_increase*i)* (time-i)\n",
    "    #print(dist)\n",
    "    #print(\"distance:\", dist)\n",
    "    if dist > distance:\n",
    "        way += 1\n",
    "    else:\n",
    "        if way > 0:\n",
    "            break\n",
    "\n",
    "print(way)"
   ]
  },
  {
   "cell_type": "markdown",
   "id": "34e459ba",
   "metadata": {},
   "source": [
    "first try : 543102016641022 too high : ... it was the input, the code did not finished\n",
    "\n",
    "second try: 37286485 OK"
   ]
  },
  {
   "cell_type": "code",
   "execution_count": null,
   "id": "95b89c2a",
   "metadata": {},
   "outputs": [],
   "source": []
  }
 ],
 "metadata": {
  "kernelspec": {
   "display_name": "Python 3 (ipykernel)",
   "language": "python",
   "name": "python3"
  },
  "language_info": {
   "codemirror_mode": {
    "name": "ipython",
    "version": 3
   },
   "file_extension": ".py",
   "mimetype": "text/x-python",
   "name": "python",
   "nbconvert_exporter": "python",
   "pygments_lexer": "ipython3",
   "version": "3.9.13"
  }
 },
 "nbformat": 4,
 "nbformat_minor": 5
}

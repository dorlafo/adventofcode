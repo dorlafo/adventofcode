{
 "cells": [
  {
   "cell_type": "markdown",
   "id": "6eb7fba2",
   "metadata": {},
   "source": [
    "## Part 1"
   ]
  },
  {
   "cell_type": "code",
   "execution_count": 19,
   "id": "b016dfb6",
   "metadata": {},
   "outputs": [
    {
     "name": "stdout",
     "output_type": "stream",
     "text": [
      "17803\n"
     ]
    }
   ],
   "source": [
    "res_tot = 0\n",
    "with open('input.txt') as f:\n",
    "    for line in f:\n",
    "        i = line.find(':')\n",
    "        card_nb = line[len(\"Card \"):i]\n",
    "        res = line[i+1:].strip().split(' | ')\n",
    "        win_nb = [nb for nb in res[0].split(' ') if nb != '']\n",
    "        my_nb = [nb for nb in res[1].split(' ') if nb != '']\n",
    "        card_res = 0\n",
    "        for nb in my_nb:\n",
    "            if nb in win_nb:\n",
    "                if card_res == 0:\n",
    "                    card_res = 1\n",
    "                else:\n",
    "                    card_res *=2\n",
    "        \n",
    "        #print(card_nb)\n",
    "        #print(win_nb, my_nb)\n",
    "        #print(card_res)\n",
    "        res_tot += card_res\n",
    "print(res_tot)"
   ]
  },
  {
   "cell_type": "markdown",
   "id": "fef21fe5",
   "metadata": {},
   "source": [
    "## Part 2"
   ]
  },
  {
   "cell_type": "code",
   "execution_count": 38,
   "id": "ad26f0c1",
   "metadata": {},
   "outputs": [
    {
     "name": "stdout",
     "output_type": "stream",
     "text": [
      "5554894\n"
     ]
    }
   ],
   "source": [
    "res_tot = 0\n",
    "cards_instances = {}\n",
    "with open('input.txt') as f:\n",
    "    for line in f:\n",
    "        i = line.find(':')\n",
    "        card_nb = line[len(\"Card \"):i]\n",
    "        res = line[i+1:].strip().split(' | ')\n",
    "        win_nb = [nb for nb in res[0].split(' ') if nb != '']\n",
    "        my_nb = [nb for nb in res[1].split(' ') if nb != '']\n",
    "        card_res = 0\n",
    "        for nb in my_nb:\n",
    "            if nb in win_nb:\n",
    "                card_res+=1\n",
    "        \n",
    "        #print(card_nb)\n",
    "        #print(win_nb, my_nb)\n",
    "        #print(card_res)\n",
    "        res_tot += card_res\n",
    "        cards_instances[int(card_nb)] = [1, card_res] #nb_occurance, nb_matching_nb\n",
    "#print(res_tot)\n",
    "#print(cards_instances)\n",
    "for n in cards_instances:\n",
    "    #print(\"Card\", n, \" has \", cards_instances[n][1], \"matching numbers\")\n",
    "    for i in range(n+1, cards_instances[n][1]+n+1):\n",
    "        #print(\"adding a copy of card \", i)\n",
    "        cards_instances[i][0]+= (1 * cards_instances[n][0])\n",
    "#print(cards_instances)\n",
    "res_tot = 0\n",
    "for e in cards_instances:\n",
    "    res_tot += cards_instances[e][0]\n",
    "print(res_tot)"
   ]
  },
  {
   "cell_type": "code",
   "execution_count": null,
   "id": "e6010cdc",
   "metadata": {},
   "outputs": [],
   "source": []
  }
 ],
 "metadata": {
  "kernelspec": {
   "display_name": "Python 3 (ipykernel)",
   "language": "python",
   "name": "python3"
  },
  "language_info": {
   "codemirror_mode": {
    "name": "ipython",
    "version": 3
   },
   "file_extension": ".py",
   "mimetype": "text/x-python",
   "name": "python",
   "nbconvert_exporter": "python",
   "pygments_lexer": "ipython3",
   "version": "3.9.13"
  }
 },
 "nbformat": 4,
 "nbformat_minor": 5
}

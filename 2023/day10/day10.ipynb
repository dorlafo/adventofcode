{
 "cells": [
  {
   "cell_type": "code",
   "execution_count": 1,
   "id": "7aa3741b",
   "metadata": {},
   "outputs": [],
   "source": [
    "def can_move(direction, curr, pipes):\n",
    "    if direction == 'N' and  'N' in curr['dir'] and curr['pos'][0] > 0:\n",
    "        if pipes[curr['pos'][0]-1][curr['pos'][1]]['sym'] in ['|', 'F', '7', 'S']:\n",
    "            return pipes[curr['pos'][0]-1][curr['pos'][1]]\n",
    "    if direction == 'S' and 'S' in curr['dir'] and curr['pos'][0] < len(pipes)-1:\n",
    "        if pipes[curr['pos'][0]+1][curr['pos'][1]]['sym'] in ['|', 'J', 'L', 'S']:\n",
    "            return pipes[curr['pos'][0]+1][curr['pos'][1]]\n",
    "    if direction == 'E' and 'E' in curr['dir'] and curr['pos'][1] < len(pipes[0])-1:\n",
    "        if pipes[curr['pos'][0]][curr['pos'][1]+1]['sym'] in ['-', 'J', '7', 'S']:\n",
    "            return pipes[curr['pos'][0]][curr['pos'][1]+1]\n",
    "    if direction == 'W' and 'W' in curr['dir'] and curr['pos'][1] > 0:\n",
    "        if pipes[curr['pos'][0]][curr['pos'][1]-1]['sym'] in ['F', '-', 'L', 'S']:\n",
    "            return pipes[curr['pos'][0]][curr['pos'][1]-1]\n",
    "    return None"
   ]
  },
  {
   "cell_type": "code",
   "execution_count": 17,
   "id": "294123a0",
   "metadata": {},
   "outputs": [
    {
     "name": "stdout",
     "output_type": "stream",
     "text": [
      "23\n"
     ]
    }
   ],
   "source": [
    "pipes = []\n",
    "start_indexes = []\n",
    "row = 0\n",
    "with open('example3.txt') as f:\n",
    "    for line in f:\n",
    "        symbols = list(line.strip())\n",
    "        pipes.append([])\n",
    "        for i,symbol in enumerate(symbols):\n",
    "            dist = -1\n",
    "            directions = []\n",
    "            if symbol == '|':\n",
    "                directions = ['N', 'S']\n",
    "            elif symbol == '-':\n",
    "                directions = ['E', 'W']\n",
    "            elif symbol == 'L':\n",
    "                directions = ['N', 'E']\n",
    "            elif symbol == 'J':\n",
    "                directions = ['N', 'W'] \n",
    "            elif symbol == '7':\n",
    "                directions = ['S', 'W']    \n",
    "            elif symbol == 'F':\n",
    "                directions = ['S', 'E']\n",
    "            elif symbol == 'S':\n",
    "                \n",
    "                start_indexes = [row, i]\n",
    "                dist = 0\n",
    "            pipes[row].append({'sym':symbol, 'pos':[row, i], 'dir':directions, 'dist':dist})\n",
    "        \n",
    "        row += 1\n",
    "        \n",
    "direction = []\n",
    "if start_indexes[0] > 0:\n",
    "    #check above\n",
    "    above = pipes[start_indexes[0]-1][start_indexes[1]]\n",
    "    if above['sym'] in ['|', 'F', '7']:\n",
    "        direction.append('N')\n",
    "if start_indexes[1] > 0:\n",
    "    #check left\n",
    "    left = pipes[start_indexes[0]][start_indexes[1]-1]\n",
    "    if left['sym'] in ['F', '-', 'L']:\n",
    "        direction.append('W')\n",
    "if start_indexes[0] < len(pipes)-1:\n",
    "    #check below\n",
    "    below = pipes[start_indexes[0]+1][start_indexes[1]]\n",
    "    if below['sym'] in ['|', 'J', 'L']:\n",
    "        direction.append('S')\n",
    "if start_indexes[1] < len(pipes[0])-1:\n",
    "    #check right\n",
    "    right = pipes[start_indexes[0]][start_indexes[1]+1]\n",
    "    if right['sym'] in ['-', 'J', '7']:\n",
    "        direction.append('E')\n",
    "\n",
    "pipes[start_indexes[0]][start_indexes[1]]['dir'] = direction\n",
    "\n",
    "#Find loop:\n",
    "path = []\n",
    "to_check = [pipes[start_indexes[0]][start_indexes[1]]]\n",
    "while len(to_check) != 0:\n",
    "    #print(\"to_check:\", to_check)\n",
    "    #print(\"\")\n",
    "    curr = to_check.pop()\n",
    "    for direction in curr['dir']:\n",
    "        res = can_move(direction, curr, pipes)\n",
    "        #print(\"can_move({},{},pipe) = {}\".format(direction, curr, res))\n",
    "        if res != None:\n",
    "            if curr not in path:\n",
    "                path.append(curr)\n",
    "            if res not in path and res not in to_check:\n",
    "                res['dist'] = curr['dist']+1\n",
    "                to_check.insert(0, res)\n",
    "#print(path)\n",
    "farthest = 0\n",
    "for p in path:\n",
    "    if p['dist'] > farthest:\n",
    "        farthest = p['dist']\n",
    "print(farthest)"
   ]
  },
  {
   "cell_type": "markdown",
   "id": "04513f54",
   "metadata": {},
   "source": [
    "## Part 2"
   ]
  },
  {
   "cell_type": "code",
   "execution_count": 18,
   "id": "249049a7",
   "metadata": {},
   "outputs": [
    {
     "name": "stdout",
     "output_type": "stream",
     "text": [
      "{'sym': '.', 'pos': [1, 10], 'dir': [], 'dist': -1}\n",
      "{'sym': '.', 'pos': [2, 10], 'dir': [], 'dist': -1}\n",
      "{'sym': '.', 'pos': [3, 3], 'dir': [], 'dist': -1}\n",
      "{'sym': '.', 'pos': [3, 4], 'dir': [], 'dist': -1}\n",
      "{'sym': '.', 'pos': [3, 5], 'dir': [], 'dist': -1}\n",
      "{'sym': '.', 'pos': [3, 6], 'dir': [], 'dist': -1}\n",
      "{'sym': '.', 'pos': [3, 7], 'dir': [], 'dist': -1}\n",
      "{'sym': '.', 'pos': [3, 10], 'dir': [], 'dist': -1}\n",
      "{'sym': '.', 'pos': [4, 3], 'dir': [], 'dist': -1}\n",
      "{'sym': '.', 'pos': [4, 4], 'dir': [], 'dist': -1}\n",
      "{'sym': '.', 'pos': [4, 5], 'dir': [], 'dist': -1}\n",
      "{'sym': '.', 'pos': [4, 6], 'dir': [], 'dist': -1}\n",
      "{'sym': '.', 'pos': [4, 7], 'dir': [], 'dist': -1}\n",
      "{'sym': '.', 'pos': [4, 10], 'dir': [], 'dist': -1}\n",
      "{'sym': '.', 'pos': [5, 5], 'dir': [], 'dist': -1}\n",
      "{'sym': '.', 'pos': [5, 10], 'dir': [], 'dist': -1}\n",
      "{'sym': '.', 'pos': [6, 2], 'dir': [], 'dist': -1}\n",
      "{'sym': '.', 'pos': [6, 3], 'dir': [], 'dist': -1}\n",
      "{'sym': '.', 'pos': [6, 5], 'dir': [], 'dist': -1}\n",
      "{'sym': '.', 'pos': [6, 7], 'dir': [], 'dist': -1}\n",
      "{'sym': '.', 'pos': [6, 8], 'dir': [], 'dist': -1}\n",
      "{'sym': '.', 'pos': [6, 10], 'dir': [], 'dist': -1}\n",
      "{'sym': '.', 'pos': [7, 5], 'dir': [], 'dist': -1}\n",
      "{'sym': '.', 'pos': [7, 10], 'dir': [], 'dist': -1}\n"
     ]
    }
   ],
   "source": [
    "enclosed = 0\n",
    "for r in pipes:\n",
    "    isEnclosed = False\n",
    "    for c in r:\n",
    "        if c in path:\n",
    "            isEnclosed = !isEnclosed\n",
    "        elif isEnclosed:\n",
    "            enclosed+=1\n",
    "            print(c)"
   ]
  },
  {
   "cell_type": "code",
   "execution_count": 16,
   "id": "1bf0f8e2",
   "metadata": {},
   "outputs": [
    {
     "name": "stdout",
     "output_type": "stream",
     "text": [
      "24\n"
     ]
    }
   ],
   "source": [
    "print(enclosed)"
   ]
  },
  {
   "cell_type": "code",
   "execution_count": null,
   "id": "eae67ebf",
   "metadata": {},
   "outputs": [],
   "source": []
  }
 ],
 "metadata": {
  "kernelspec": {
   "display_name": "Python 3 (ipykernel)",
   "language": "python",
   "name": "python3"
  },
  "language_info": {
   "codemirror_mode": {
    "name": "ipython",
    "version": 3
   },
   "file_extension": ".py",
   "mimetype": "text/x-python",
   "name": "python",
   "nbconvert_exporter": "python",
   "pygments_lexer": "ipython3",
   "version": "3.9.18"
  }
 },
 "nbformat": 4,
 "nbformat_minor": 5
}

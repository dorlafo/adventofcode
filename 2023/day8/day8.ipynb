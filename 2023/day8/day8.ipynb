{
 "cells": [
  {
   "cell_type": "markdown",
   "id": "6aaebecd",
   "metadata": {},
   "source": [
    "## Part1"
   ]
  },
  {
   "cell_type": "code",
   "execution_count": 1,
   "id": "407a2c67",
   "metadata": {},
   "outputs": [],
   "source": [
    "def parse_input(file):\n",
    "    instructions = []\n",
    "    mapping = {}\n",
    "    with open(file) as f:\n",
    "        for line in f:\n",
    "            l = line.strip()\n",
    "            i = l.find('=')\n",
    "            if l != '' and i == -1:\n",
    "                instructions = l\n",
    "            elif i != -1:\n",
    "                key = l[0:i-1]\n",
    "                vals = l[i+3:-1].split(', ')\n",
    "                mapping[key] = {'L': vals[0], 'R': vals[1]}\n",
    "                \n",
    "    return instructions, mapping"
   ]
  },
  {
   "cell_type": "code",
   "execution_count": 2,
   "id": "28cdda8d",
   "metadata": {},
   "outputs": [],
   "source": [
    "def solve(instructions, mapping):\n",
    "    pos = 'AAA'\n",
    "    steps = 0\n",
    "    while pos != 'ZZZ':\n",
    "        for i in instructions:\n",
    "            pos = mapping[pos][i]\n",
    "            steps+=1\n",
    "            if pos == 'ZZZ':\n",
    "                break\n",
    "    return steps"
   ]
  },
  {
   "cell_type": "code",
   "execution_count": 3,
   "id": "1353d9bb",
   "metadata": {},
   "outputs": [
    {
     "name": "stdout",
     "output_type": "stream",
     "text": [
      "2\n"
     ]
    }
   ],
   "source": [
    "instructions, mapping = parse_input('example.txt')\n",
    "steps = solve(instructions, mapping)\n",
    "\n",
    "assert(steps == 2)\n",
    "print(steps)        "
   ]
  },
  {
   "cell_type": "code",
   "execution_count": 4,
   "id": "f731af6b",
   "metadata": {},
   "outputs": [
    {
     "name": "stdout",
     "output_type": "stream",
     "text": [
      "6\n"
     ]
    }
   ],
   "source": [
    "instructions, mapping = parse_input('example2.txt')\n",
    "steps = solve(instructions, mapping)\n",
    "\n",
    "assert(steps == 6)\n",
    "print(steps)     "
   ]
  },
  {
   "cell_type": "code",
   "execution_count": 5,
   "id": "cd543838",
   "metadata": {},
   "outputs": [
    {
     "name": "stdout",
     "output_type": "stream",
     "text": [
      "19099\n"
     ]
    }
   ],
   "source": [
    "instructions, mapping = parse_input('input.txt')\n",
    "steps = solve(instructions, mapping)\n",
    "\n",
    "print(steps)  "
   ]
  },
  {
   "cell_type": "markdown",
   "id": "24ace746",
   "metadata": {},
   "source": [
    "## Part 2"
   ]
  },
  {
   "cell_type": "code",
   "execution_count": 6,
   "id": "c47978b0",
   "metadata": {},
   "outputs": [],
   "source": [
    "import math"
   ]
  },
  {
   "cell_type": "code",
   "execution_count": 7,
   "id": "924fb3c2",
   "metadata": {},
   "outputs": [],
   "source": [
    "def lcm(res: []):\n",
    "    if len(res) == 2:\n",
    "        return np.lcm(res[0], res[1])\n",
    "    else:\n",
    "        return np.lcm(res[0], lcm(res[1:]))\n",
    "\n",
    "def validate(pos):\n",
    "    for p in pos:\n",
    "        if not p.endswith('Z'):\n",
    "            return False\n",
    "    return True\n",
    "\n",
    "def solve_ghost(instructions: [], mapping: {}):\n",
    "    pos = []\n",
    "    for k in mapping.keys():\n",
    "        if k.endswith('A'):\n",
    "            pos.append(k)\n",
    "    endingWithZ = []\n",
    "    for k in range(len(pos)):\n",
    "        steps = 0\n",
    "        endingWithZ.append([])\n",
    "        while len(endingWithZ[k]) < 2:\n",
    "            for i in instructions:\n",
    "                steps+=1\n",
    "                pos[k] = mapping[pos[k]][i]\n",
    "                if pos[k].endswith('Z'):\n",
    "                    endingWithZ[k].append(steps)\n",
    "                    if len(endingWithZ) >= 2:\n",
    "                        break\n",
    "                        \n",
    "                        \n",
    "    res = []\n",
    "    for e in endingWithZ:\n",
    "        res.append(e[1]-e[0])\n",
    "    return math.lcm(*res)\n"
   ]
  },
  {
   "cell_type": "code",
   "execution_count": 8,
   "id": "1e94a822",
   "metadata": {},
   "outputs": [
    {
     "name": "stdout",
     "output_type": "stream",
     "text": [
      "6\n"
     ]
    }
   ],
   "source": [
    "instructions, mapping = parse_input('example3.txt')\n",
    "steps = solve_ghost(instructions, mapping)\n",
    "print(steps)\n",
    "assert(steps == 6)"
   ]
  },
  {
   "cell_type": "code",
   "execution_count": 9,
   "id": "7d60304d",
   "metadata": {
    "scrolled": true
   },
   "outputs": [
    {
     "name": "stdout",
     "output_type": "stream",
     "text": [
      "17099847107071\n"
     ]
    }
   ],
   "source": [
    "instructions, mapping = parse_input('input.txt')\n",
    "steps = solve_ghost(instructions, mapping)\n",
    "print(steps)"
   ]
  },
  {
   "cell_type": "markdown",
   "id": "cc32914c",
   "metadata": {},
   "source": [
    "First try: 1'694'775'127 too low\n",
    "\n",
    "Correct answer : 17'099'847'107'071 = LMC(15871 16409 21251 18023 12643 19099)"
   ]
  }
 ],
 "metadata": {
  "kernelspec": {
   "display_name": "Python 3 (ipykernel)",
   "language": "python",
   "name": "python3"
  },
  "language_info": {
   "codemirror_mode": {
    "name": "ipython",
    "version": 3
   },
   "file_extension": ".py",
   "mimetype": "text/x-python",
   "name": "python",
   "nbconvert_exporter": "python",
   "pygments_lexer": "ipython3",
   "version": "3.9.18"
  }
 },
 "nbformat": 4,
 "nbformat_minor": 5
}

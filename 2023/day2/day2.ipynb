{
 "cells": [
  {
   "cell_type": "markdown",
   "id": "bb11f3b5",
   "metadata": {},
   "source": [
    "## Part1"
   ]
  },
  {
   "cell_type": "code",
   "execution_count": 38,
   "id": "8bfefae3",
   "metadata": {},
   "outputs": [],
   "source": [
    "def parse_line(line: str):\n",
    "    red_max = 12\n",
    "    green_max = 13\n",
    "    blue_max = 14\n",
    "    game_id = int(line[len(\"Game \"):line.find(\":\")].strip())\n",
    "    sets = line[line.find(\":\") + 2:].split(\"; \")\n",
    "    game_is_possible = True\n",
    "    for s in sets:\n",
    "        cubes = s.split(\",\")\n",
    "        for c in cubes:\n",
    "            id_b = c.find(\"blue\")\n",
    "            id_r = c.find(\"red\")\n",
    "            id_g = c.find(\"green\")\n",
    "            \n",
    "            if id_b != -1:\n",
    "                blue = int(c[:id_b])\n",
    "                if blue > blue_max:\n",
    "                    game_is_possible = False\n",
    "                \n",
    "            if id_r != -1:\n",
    "                red = int(c[:id_r])\n",
    "                if red > red_max:\n",
    "                    game_is_possible = False\n",
    "            if id_g != -1:\n",
    "                green = int(c[:id_g])\n",
    "                if green > green_max:\n",
    "                    game_is_possible = False\n",
    "                    \n",
    "    if game_is_possible:\n",
    "        return game_id\n",
    "    else:\n",
    "        return 0"
   ]
  },
  {
   "cell_type": "code",
   "execution_count": 41,
   "id": "89043a77",
   "metadata": {},
   "outputs": [
    {
     "name": "stdout",
     "output_type": "stream",
     "text": [
      "2149\n"
     ]
    }
   ],
   "source": [
    "with open('input.txt') as f :\n",
    "    sum = 0\n",
    "    for line in f:\n",
    "        #print(line)\n",
    "        res = parse_line(line)\n",
    "        sum += res\n",
    "        \n",
    "print(sum)"
   ]
  },
  {
   "cell_type": "markdown",
   "id": "2d6eccbf",
   "metadata": {},
   "source": [
    "## Part 2"
   ]
  },
  {
   "cell_type": "code",
   "execution_count": 47,
   "id": "c7cbb188",
   "metadata": {},
   "outputs": [],
   "source": [
    "def parse_line_2(line: str):\n",
    "    red_min = 0\n",
    "    green_min = 0\n",
    "    blue_min = 0\n",
    "    game_id = int(line[len(\"Game \"):line.find(\":\")].strip())\n",
    "    sets = line[line.find(\":\") + 2:].split(\"; \")\n",
    "    for s in sets:\n",
    "        cubes = s.split(\",\")\n",
    "        for c in cubes:\n",
    "            id_b = c.find(\"blue\")\n",
    "            id_r = c.find(\"red\")\n",
    "            id_g = c.find(\"green\")\n",
    "            \n",
    "            if id_b != -1:\n",
    "                blue = int(c[:id_b])\n",
    "                if blue > blue_min:\n",
    "                    blue_min = blue\n",
    "                \n",
    "            if id_r != -1:\n",
    "                red = int(c[:id_r])\n",
    "                if red > red_min:\n",
    "                    red_min = red\n",
    "            if id_g != -1:\n",
    "                green = int(c[:id_g])\n",
    "                if green > green_min:\n",
    "                    green_min = green\n",
    "                    \n",
    "    return red_min * green_min * blue_min"
   ]
  },
  {
   "cell_type": "code",
   "execution_count": 49,
   "id": "86d708a7",
   "metadata": {},
   "outputs": [
    {
     "name": "stdout",
     "output_type": "stream",
     "text": [
      "71274\n"
     ]
    }
   ],
   "source": [
    "with open('input.txt') as f :\n",
    "    sum = 0\n",
    "    for line in f:\n",
    "        #print(line)\n",
    "        res = parse_line_2(line)\n",
    "        sum += res\n",
    "        \n",
    "print(sum)"
   ]
  },
  {
   "cell_type": "code",
   "execution_count": null,
   "id": "a017d350",
   "metadata": {},
   "outputs": [],
   "source": []
  }
 ],
 "metadata": {
  "kernelspec": {
   "display_name": "Python 3 (ipykernel)",
   "language": "python",
   "name": "python3"
  },
  "language_info": {
   "codemirror_mode": {
    "name": "ipython",
    "version": 3
   },
   "file_extension": ".py",
   "mimetype": "text/x-python",
   "name": "python",
   "nbconvert_exporter": "python",
   "pygments_lexer": "ipython3",
   "version": "3.9.13"
  }
 },
 "nbformat": 4,
 "nbformat_minor": 5
}

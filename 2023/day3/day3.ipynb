{
 "cells": [
  {
   "cell_type": "markdown",
   "id": "d49378ee",
   "metadata": {},
   "source": [
    "## Part 1"
   ]
  },
  {
   "cell_type": "code",
   "execution_count": 88,
   "id": "2070105f",
   "metadata": {
    "scrolled": false
   },
   "outputs": [
    {
     "name": "stdout",
     "output_type": "stream",
     "text": [
      "519444\n",
      "74528807\n"
     ]
    }
   ],
   "source": [
    "def is_piece(n, n_r, n_c, symbols, max_r, max_c, star_symbol_position):\n",
    "    l = len(str(n))\n",
    "    r_start = n_r -1\n",
    "    c_start = n_c -1\n",
    "    r_end = n_r + 2\n",
    "    c_end = n_c + l + 1\n",
    "    #print(\"checking adjacent symbol for\", n, n_r, n_c)\n",
    "    res = False\n",
    "    for r in range(r_start, r_end):\n",
    "        for c in range(c_start, c_end):\n",
    "            #print(\"r, c:\", r, c)\n",
    "            if (r, c) in symbols:\n",
    "                #print(n, \"adjacent with\", r, c)\n",
    "                res = True\n",
    "            if (r, c) in star_symbol_position:\n",
    "                star_symbol_position[(r,c)].append(n)\n",
    "    return res\n",
    "\n",
    "symbol_position = []\n",
    "star_symbol_position = {}\n",
    "numbers = []\n",
    "max_c = 0\n",
    "max_r = 0\n",
    "with open('input.txt') as f:\n",
    "    r = 0\n",
    "    max_r = len(line)-1\n",
    "    for line in f:\n",
    "        #print(line.strip())\n",
    "        max_c = len(line.strip())\n",
    "        curr_number = \"\"\n",
    "        start = -1\n",
    "        for i, ch in enumerate(line.strip()):\n",
    "            if not ch.isdigit() and ch != '.':\n",
    "                symbol_position.append((r, i))\n",
    "                if ch == '*':\n",
    "                    star_symbol_position[(r, i)] = []\n",
    "            \n",
    "            if ch.isdigit():\n",
    "                curr_number += ch\n",
    "                if start == -1:\n",
    "                    start = i\n",
    "            else:\n",
    "                if len(curr_number) > 0:\n",
    "                    numbers.append((int(curr_number), r, start))\n",
    "                    curr_number = \"\"\n",
    "                    start = -1\n",
    "        r+=1\n",
    "        if len(curr_number) > 0:\n",
    "            numbers.append((int(curr_number), r-1, start))\n",
    "            curr_number = \"\"\n",
    "            start = -1\n",
    "#print(symbol_position)\n",
    "#print(numbers)\n",
    "#print(\"max_r, max_c\", max_r, max_c)\n",
    "\n",
    "\n",
    "sum1 = 0\n",
    "for e in numbers:\n",
    "    if is_piece(e[0], e[1], e[2], symbol_position, max_r, max_c, star_symbol_position):\n",
    "        #print(\"is piece\", e[0])\n",
    "        sum1 += e[0]\n",
    "\n",
    "print(sum1)\n",
    "\n",
    "\n",
    "#Part 2\n",
    "sum2 = 0\n",
    "for k in star_symbol_position:\n",
    "    if len(star_symbol_position[k]) == 2:\n",
    "        sum2 += star_symbol_position[k][0] * star_symbol_position[k][1]\n",
    "print(sum2)"
   ]
  },
  {
   "cell_type": "markdown",
   "id": "509d21d1",
   "metadata": {},
   "source": [
    "Part 1\n",
    "1. create set (r,c) of position containing symbol\n",
    "2. extract number\n",
    "3. for every number, check surrounding\n",
    "\n",
    "first try : 517752 too low -> bug discovered, number at right border were not \"detected\"\n",
    "\n",
    "second try : 519215 still too low -> number from 1st bug had a r too high of 1\n",
    "\n",
    "third try : 519444 correct"
   ]
  },
  {
   "cell_type": "markdown",
   "id": "3853cdd9",
   "metadata": {},
   "source": [
    "## Part 2\n",
    "first try : 74528807 correct"
   ]
  },
  {
   "cell_type": "code",
   "execution_count": null,
   "id": "67874804",
   "metadata": {},
   "outputs": [],
   "source": []
  }
 ],
 "metadata": {
  "kernelspec": {
   "display_name": "Python 3 (ipykernel)",
   "language": "python",
   "name": "python3"
  },
  "language_info": {
   "codemirror_mode": {
    "name": "ipython",
    "version": 3
   },
   "file_extension": ".py",
   "mimetype": "text/x-python",
   "name": "python",
   "nbconvert_exporter": "python",
   "pygments_lexer": "ipython3",
   "version": "3.9.13"
  }
 },
 "nbformat": 4,
 "nbformat_minor": 5
}

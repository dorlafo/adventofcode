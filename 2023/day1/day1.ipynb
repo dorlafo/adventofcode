{
 "cells": [
  {
   "cell_type": "code",
   "execution_count": 103,
   "id": "d43b607c",
   "metadata": {},
   "outputs": [],
   "source": [
    "\"\"\"digits = [\"one\", \"two\", \"three\", \"four\", \"five\", \"six\", \"seven\", \"eight\", \"nine\"]\n",
    "digits_map = {\n",
    "    \"one\": \"1\",\n",
    "    \"two\": \"2\",\n",
    "    \"three\": \"3\",\n",
    "    \"four\": \"4\",\n",
    "    \"five\": \"5\",\n",
    "    \"six\": \"6\",\n",
    "    \"seven\": \"7\",\n",
    "    \"eight\": \"8\",\n",
    "    \"nine\": \"9\"\n",
    "}\n",
    "\n",
    "def transform_2(s: str):\n",
    "    while True:\n",
    "        origin_s = s[:]\n",
    "        min_index = len(s) + 1\n",
    "        number_to_replace = \"\"\n",
    "        for digit in digits:\n",
    "            idx = s.find(digit)\n",
    "            if idx != -1 and idx < min_index:\n",
    "                min_index = idx\n",
    "                number_to_replace = digit\n",
    "        \n",
    "        if min_index != len(s) + 1:\n",
    "            s = s.replace(number_to_replace, digits_map[number_to_replace], 1)\n",
    "        if origin_s == s:\n",
    "            break\n",
    "    return s\n",
    "\"\"\"\n"
   ]
  },
  {
   "cell_type": "code",
   "execution_count": 104,
   "id": "de1f903a",
   "metadata": {},
   "outputs": [
    {
     "data": {
      "text/plain": [
       "'def transform(s: str):\\n    while True:\\n        origin_s = s[:]\\n        #special case\\n        if s.find(\"eightwo\") != -1:\\n            s = s.replace(\"eight\", \"8\", 1)\\n        if s.find(\"twone\") != -1:\\n            s = s.replace(\"two\", \"2\", 1)\\n        if s.find(\"oneight\") != -1:\\n            s = s.replace(\"one\", \"1\", 1)\\n        if s.find(\"eighthree\") != -1:\\n            s = s.replace(\"eight\", \"8\", 1)\\n\\n        if s.find(\"threeight\") != -1:\\n            s = s.replace(\"three\", \"3\", 1)\\n\\n        if s.find(\"fiveight\") != -1:\\n            s = s.replace(\"five\", \"5\", 1)\\n        if s.find(\"sevenine\") != -1:\\n            s = s.replace(\"seven\", \"7\", 1)\\n\\n        if s.find(\"nineight\") != -1:\\n            s = s.replace(\"nine\", \"9\", 1)\\n        \\n        if origin_s == s:\\n            break\\n    while True:\\n        origin_s = s[:]\\n        s = s.replace(\"two\", \"2\", 1)\\n        s = s.replace(\"one\", \"1\", 1)\\n        s = s.replace(\"eight\", \"8\", 1)\\n        s = s.replace(\"five\", \"5\", 1)\\n        s = s.replace(\"three\", \"3\", 1)\\n        s = s.replace(\"seven\", \"7\", 1)\\n        s = s.replace(\"nine\", \"9\", 1)\\n        s = s.replace(\"four\", \"4\", 1)\\n        s = s.replace(\"six\", \"6\", 1)\\n        if origin_s == s:\\n            break\\n    return s\\n'"
      ]
     },
     "execution_count": 104,
     "metadata": {},
     "output_type": "execute_result"
    }
   ],
   "source": [
    "\"\"\"def transform(s: str):\n",
    "    while True:\n",
    "        origin_s = s[:]\n",
    "        #special case\n",
    "        if s.find(\"eightwo\") != -1:\n",
    "            s = s.replace(\"eight\", \"8\", 1)\n",
    "        if s.find(\"twone\") != -1:\n",
    "            s = s.replace(\"two\", \"2\", 1)\n",
    "        if s.find(\"oneight\") != -1:\n",
    "            s = s.replace(\"one\", \"1\", 1)\n",
    "        if s.find(\"eighthree\") != -1:\n",
    "            s = s.replace(\"eight\", \"8\", 1)\n",
    "\n",
    "        if s.find(\"threeight\") != -1:\n",
    "            s = s.replace(\"three\", \"3\", 1)\n",
    "\n",
    "        if s.find(\"fiveight\") != -1:\n",
    "            s = s.replace(\"five\", \"5\", 1)\n",
    "        if s.find(\"sevenine\") != -1:\n",
    "            s = s.replace(\"seven\", \"7\", 1)\n",
    "\n",
    "        if s.find(\"nineight\") != -1:\n",
    "            s = s.replace(\"nine\", \"9\", 1)\n",
    "        \n",
    "        if origin_s == s:\n",
    "            break\n",
    "    while True:\n",
    "        origin_s = s[:]\n",
    "        s = s.replace(\"two\", \"2\", 1)\n",
    "        s = s.replace(\"one\", \"1\", 1)\n",
    "        s = s.replace(\"eight\", \"8\", 1)\n",
    "        s = s.replace(\"five\", \"5\", 1)\n",
    "        s = s.replace(\"three\", \"3\", 1)\n",
    "        s = s.replace(\"seven\", \"7\", 1)\n",
    "        s = s.replace(\"nine\", \"9\", 1)\n",
    "        s = s.replace(\"four\", \"4\", 1)\n",
    "        s = s.replace(\"six\", \"6\", 1)\n",
    "        if origin_s == s:\n",
    "            break\n",
    "    return s\n",
    "\"\"\""
   ]
  },
  {
   "cell_type": "code",
   "execution_count": 107,
   "id": "7bf11205",
   "metadata": {},
   "outputs": [],
   "source": [
    "def transform_3(s: str):\n",
    "    s = s.replace(\"eightwo\", \"eighttwo\")\n",
    "    s = s.replace(\"twone\", \"twoone\")\n",
    "    s = s.replace(\"oneight\", \"oneeight\")\n",
    "    s = s.replace(\"eighthree\", \"eightthree\")\n",
    "    s = s.replace(\"threeight\", \"threeeight\")\n",
    "    s = s.replace(\"fiveight\", \"fiveeight\")\n",
    "    s = s.replace(\"sevenine\", \"sevennine\")\n",
    "    s = s.replace(\"nineight\", \"nineeight\")\n",
    "    \n",
    "    s = s.replace(\"two\", \"2\")\n",
    "    s = s.replace(\"one\", \"1\")\n",
    "    s = s.replace(\"eight\", \"8\")\n",
    "    s = s.replace(\"five\", \"5\")\n",
    "    s = s.replace(\"three\", \"3\")\n",
    "    s = s.replace(\"seven\", \"7\")\n",
    "    s = s.replace(\"nine\", \"9\")\n",
    "    s = s.replace(\"four\", \"4\")\n",
    "    s = s.replace(\"six\", \"6\")\n",
    "    return s"
   ]
  },
  {
   "cell_type": "markdown",
   "id": "1c32eb4f",
   "metadata": {},
   "source": [
    "## Part 1"
   ]
  },
  {
   "cell_type": "code",
   "execution_count": 109,
   "id": "1349dbde",
   "metadata": {
    "scrolled": true
   },
   "outputs": [
    {
     "name": "stdout",
     "output_type": "stream",
     "text": [
      "56049\n"
     ]
    }
   ],
   "source": [
    "with open('input.txt', encoding='utf-8') as f:\n",
    "    sum = 0\n",
    "    for line in f:\n",
    "        first_digit = \"\"\n",
    "        last_digit = \"\"\n",
    "        tr_line = line #transform_3(line)\n",
    "        \n",
    "        for c in tr_line :\n",
    "            if c.isdigit():\n",
    "                if first_digit == \"\":\n",
    "                    first_digit = c\n",
    "                last_digit = c\n",
    "        digit = first_digit + \"\" + last_digit\n",
    "        #print(line, tr_line, digit)\n",
    "        sum += int(digit)\n",
    "    print(sum)"
   ]
  },
  {
   "cell_type": "markdown",
   "id": "860b0622",
   "metadata": {},
   "source": [
    "## Part 2"
   ]
  },
  {
   "cell_type": "code",
   "execution_count": 110,
   "id": "72c4face",
   "metadata": {},
   "outputs": [
    {
     "name": "stdout",
     "output_type": "stream",
     "text": [
      "54530\n"
     ]
    }
   ],
   "source": [
    "with open('input.txt', encoding='utf-8') as f:\n",
    "    sum = 0\n",
    "    for line in f:\n",
    "        first_digit = \"\"\n",
    "        last_digit = \"\"\n",
    "        tr_line = transform_3(line)\n",
    "        \n",
    "        for c in tr_line :\n",
    "            if c.isdigit():\n",
    "                if first_digit == \"\":\n",
    "                    first_digit = c\n",
    "                last_digit = c\n",
    "        digit = first_digit + \"\" + last_digit\n",
    "        #print(line, tr_line, digit)\n",
    "        sum += int(digit)\n",
    "    print(sum)"
   ]
  },
  {
   "cell_type": "code",
   "execution_count": null,
   "id": "f423e285",
   "metadata": {},
   "outputs": [],
   "source": []
  }
 ],
 "metadata": {
  "kernelspec": {
   "display_name": "Python 3 (ipykernel)",
   "language": "python",
   "name": "python3"
  },
  "language_info": {
   "codemirror_mode": {
    "name": "ipython",
    "version": 3
   },
   "file_extension": ".py",
   "mimetype": "text/x-python",
   "name": "python",
   "nbconvert_exporter": "python",
   "pygments_lexer": "ipython3",
   "version": "3.9.13"
  }
 },
 "nbformat": 4,
 "nbformat_minor": 5
}

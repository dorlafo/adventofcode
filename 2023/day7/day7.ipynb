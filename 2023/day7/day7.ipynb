{
 "cells": [
  {
   "cell_type": "markdown",
   "id": "76aa1477",
   "metadata": {},
   "source": [
    "## Part 1"
   ]
  },
  {
   "cell_type": "code",
   "execution_count": 125,
   "id": "2de5cf2f",
   "metadata": {},
   "outputs": [],
   "source": [
    "import functools\n",
    "from operator import itemgetter\n",
    "ratings = {'A':14, 'K':13, 'Q':12, 'J':11, 'T':10, '9':9, '8':8, '7':7, '6':6, '5':5, '4':4, '3':3, '2':2}\n",
    "def card_rating(c: str):\n",
    "    return ratings[c]\n",
    "\n",
    "def rate_hand(hand: str):\n",
    "    cards = {}\n",
    "    for c in hand:\n",
    "        if c in cards:\n",
    "            cards[c] += 1\n",
    "        else:\n",
    "            cards[c] = 1\n",
    "    values = list(cards.values())\n",
    "    if 5 in values:\n",
    "        #print(hand, ': 5 of a kind')\n",
    "        return 6\n",
    "    elif 4 in values:\n",
    "        #print(hand, ': 4 of a kind')\n",
    "        return 5\n",
    "    elif 3 in values and 2 in values:\n",
    "        #print(hand, ': Full house')\n",
    "        return 4\n",
    "    elif 3 in values:\n",
    "        #print(hand, ': 3 of a kind')\n",
    "        return 3\n",
    "    elif 2 in values and values.count(2) == 2:\n",
    "        #print(hand, ': 2 pairs')\n",
    "        return 2\n",
    "    elif 2 in values:\n",
    "        #print(hand, ': One pair')\n",
    "        return 1\n",
    "    else:\n",
    "        #print(hand, ': High card')\n",
    "        return 0\n",
    "\n",
    "\n",
    "def compare_hand(h1, h2):\n",
    "    r1 = rate_hand(h1)\n",
    "    r2 = rate_hand(h2)\n",
    "    if r1 == r2:\n",
    "        for i in range(len(h1)):\n",
    "            cr1 = card_rating(h1[i])\n",
    "            cr2 = card_rating(h2[i])\n",
    "            if cr1 != cr2:\n",
    "                return 1 if cr1 > cr2 else -1\n",
    "        return 0\n",
    "    else:\n",
    "        return 1 if r1 > r2 else -1\n",
    "\n",
    "# Tests\n",
    "assert(compare_hand('33332', '2AAAA') == 1)\n",
    "assert(compare_hand('77888', '77788') == 1)\n",
    "assert(compare_hand('KK677', 'KTJJT') == 1)"
   ]
  },
  {
   "cell_type": "code",
   "execution_count": 126,
   "id": "0a66c2ef",
   "metadata": {},
   "outputs": [
    {
     "name": "stdout",
     "output_type": "stream",
     "text": [
      "249390788\n"
     ]
    }
   ],
   "source": [
    "hands = {}\n",
    "with open('input.txt') as f:\n",
    "    for line in f:\n",
    "        l = line.split(\" \")\n",
    "        hands[l[0]] = int(l[1].strip())\n",
    "\n",
    "sorted_hands = sorted(hands.keys(), key = functools.cmp_to_key(compare_hand))\n",
    "#assert(sorted_hands == ['32T3K', 'KTJJT', 'KK677', 'T55J5', 'QQQJA'])\n",
    "\n",
    "res = 0\n",
    "for i, k in enumerate(sorted_hands):\n",
    "    res += (i+1) * hands[k]\n",
    "print(res)\n",
    "#assert(res == 6440)"
   ]
  },
  {
   "cell_type": "markdown",
   "id": "b1ed3322",
   "metadata": {},
   "source": [
    "## Part 2"
   ]
  },
  {
   "cell_type": "code",
   "execution_count": 145,
   "id": "bde07d7a",
   "metadata": {},
   "outputs": [],
   "source": [
    "import functools\n",
    "from operator import itemgetter\n",
    "ratings = {'A':14, 'K':13, 'Q':12, 'J':1, 'T':10, '9':9, '8':8, '7':7, '6':6, '5':5, '4':4, '3':3, '2':2}\n",
    "def card_rating(c: str):\n",
    "    return ratings[c]\n",
    "\n",
    "def rate_hand(hand: str):\n",
    "    cards = {}\n",
    "    for c in hand:\n",
    "        if c in cards:\n",
    "            cards[c] += 1\n",
    "        else:\n",
    "            cards[c] = 1\n",
    "    #print(cards)\n",
    "    values = list(cards.values())\n",
    "    if 5 in values:\n",
    "        #print(hand, ': 5 of a kind')\n",
    "        return 6\n",
    "    elif 4 in values:\n",
    "        #print(hand, ': 4 of a kind')\n",
    "        if 'J' in cards:\n",
    "            return 6\n",
    "        return 5\n",
    "    elif 3 in values and 2 in values:\n",
    "        #print(hand, ': Full house')\n",
    "        if 'J' in cards:\n",
    "            return 6\n",
    "        return 4\n",
    "    elif 3 in values:\n",
    "        #print(hand, ': 3 of a kind')\n",
    "        if 'J' in cards:\n",
    "            return 5\n",
    "        return 3\n",
    "    elif 2 in values and values.count(2) == 2:\n",
    "        #print(hand, ': 2 pairs')\n",
    "        if 'J' in cards:\n",
    "            if cards['J'] == 2:\n",
    "                return 5\n",
    "            else:\n",
    "                return 4\n",
    "        return 2\n",
    "    elif 2 in values:\n",
    "        #print(hand, ': One pair')\n",
    "        if 'J' in cards:\n",
    "            return 3\n",
    "        return 1\n",
    "    else:\n",
    "        #print(hand, ': High card')\n",
    "        if 'J' in cards:\n",
    "            return 1\n",
    "        return 0\n",
    "\n",
    "\n",
    "def compare_hand(h1, h2):\n",
    "    r1 = rate_hand(h1)\n",
    "    r2 = rate_hand(h2)\n",
    "    if r1 == r2:\n",
    "        for i in range(len(h1)):\n",
    "            cr1 = card_rating(h1[i])\n",
    "            cr2 = card_rating(h2[i])\n",
    "            if cr1 != cr2:\n",
    "                return 1 if cr1 > cr2 else -1\n",
    "        return 0\n",
    "    else:\n",
    "        return 1 if r1 > r2 else -1\n",
    "\n",
    "# Tests\n",
    "assert(compare_hand('33332', '2AAAA') == 1)\n",
    "assert(compare_hand('77888', '77788') == 1)\n",
    "assert(compare_hand('KK677', 'KTJJT') == -1)\n",
    "assert(compare_hand('QQQQ2', 'JKKK2') == 1)"
   ]
  },
  {
   "cell_type": "code",
   "execution_count": 146,
   "id": "bc87011d",
   "metadata": {},
   "outputs": [
    {
     "name": "stdout",
     "output_type": "stream",
     "text": [
      "248750248\n"
     ]
    }
   ],
   "source": [
    "hands = {}\n",
    "with open('input.txt') as f:\n",
    "    for line in f:\n",
    "        l = line.split(\" \")\n",
    "        hands[l[0]] = int(l[1].strip())\n",
    "\n",
    "sorted_hands = sorted(hands.keys(), key = functools.cmp_to_key(compare_hand))\n",
    "#assert(sorted_hands == ['32T3K', 'KK677', 'T55J5', 'QQQJA', 'KTJJT'])\n",
    "\n",
    "res = 0\n",
    "for i, k in enumerate(sorted_hands):\n",
    "    res += (i+1) * hands[k]\n",
    "print(res)\n",
    "#assert(res == 5905)"
   ]
  },
  {
   "cell_type": "code",
   "execution_count": null,
   "id": "92e98612",
   "metadata": {},
   "outputs": [],
   "source": []
  }
 ],
 "metadata": {
  "kernelspec": {
   "display_name": "Python 3 (ipykernel)",
   "language": "python",
   "name": "python3"
  },
  "language_info": {
   "codemirror_mode": {
    "name": "ipython",
    "version": 3
   },
   "file_extension": ".py",
   "mimetype": "text/x-python",
   "name": "python",
   "nbconvert_exporter": "python",
   "pygments_lexer": "ipython3",
   "version": "3.9.18"
  }
 },
 "nbformat": 4,
 "nbformat_minor": 5
}

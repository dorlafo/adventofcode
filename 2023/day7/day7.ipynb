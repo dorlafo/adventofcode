{
 "cells": [
  {
   "cell_type": "code",
   "execution_count": 12,
   "id": "0a66c2ef",
   "metadata": {},
   "outputs": [
    {
     "name": "stdout",
     "output_type": "stream",
     "text": [
      "[['32T3K', 765], ['T55J5', 684], ['KK677', 28], ['KTJJT', 220], ['QQQJA', 483]]\n",
      "{'3': 2, '2': 1, 'T': 1, 'K': 1}\n",
      "None\n",
      "{'T': 1, '5': 3, 'J': 1}\n",
      "None\n",
      "{'K': 2, '6': 1, '7': 2}\n",
      "None\n",
      "{'K': 1, 'T': 2, 'J': 2}\n",
      "None\n",
      "{'Q': 3, 'J': 1, 'A': 1}\n",
      "None\n"
     ]
    }
   ],
   "source": [
    "hands = []\n",
    "with open('example.txt') as f:\n",
    "    for line in f:\n",
    "        l = line.split(\" \")\n",
    "        hands.append([l[0], int(l[1].strip())])\n",
    "print(hands)\n",
    "\n",
    "for e in hands:\n",
    "    print(rate_hand(e[0]))"
   ]
  },
  {
   "cell_type": "code",
   "execution_count": 9,
   "id": "2de5cf2f",
   "metadata": {},
   "outputs": [],
   "source": [
    "def card_rating(c: str):\n",
    "    pass\n",
    "\n",
    "def rate_hand(hand: str):\n",
    "    cards = {}\n",
    "    for c in hand:\n",
    "        if c in cards:\n",
    "            cards[c] += 1\n",
    "        else:\n",
    "            cards[c] = 1\n",
    "    print(cards)\n",
    "\n",
    "\n",
    "def compare_hand(h1: str, h2: str):\n",
    "    r1 = rate_hand(h1)\n",
    "    r2 = rate_hand(h2)\n",
    "    if r1 == r2:\n",
    "        for i in len(h1):\n",
    "            cr1 = card_rating(h1[i])\n",
    "            cr2 = card_rating(h2[i])\n",
    "            if cr1 != cr2:\n",
    "                return r1 if cr1 > cr2 else r2\n",
    "    else:\n",
    "        return r1 if r1 > r2 else r2"
   ]
  },
  {
   "cell_type": "code",
   "execution_count": null,
   "id": "4adf289c",
   "metadata": {},
   "outputs": [],
   "source": []
  },
  {
   "cell_type": "code",
   "execution_count": null,
   "id": "1fb64d66",
   "metadata": {},
   "outputs": [],
   "source": []
  }
 ],
 "metadata": {
  "kernelspec": {
   "display_name": "Python 3 (ipykernel)",
   "language": "python",
   "name": "python3"
  },
  "language_info": {
   "codemirror_mode": {
    "name": "ipython",
    "version": 3
   },
   "file_extension": ".py",
   "mimetype": "text/x-python",
   "name": "python",
   "nbconvert_exporter": "python",
   "pygments_lexer": "ipython3",
   "version": "3.9.13"
  }
 },
 "nbformat": 4,
 "nbformat_minor": 5
}

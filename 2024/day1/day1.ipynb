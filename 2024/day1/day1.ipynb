{
 "cells": [
  {
   "cell_type": "markdown",
   "id": "d9bf88b6-99b5-4d3e-8002-1b3a79f67b4f",
   "metadata": {},
   "source": [
    "# Part1"
   ]
  },
  {
   "cell_type": "code",
   "execution_count": 59,
   "id": "5d611f1c-384a-4d52-a647-6ba25ef10ce5",
   "metadata": {},
   "outputs": [
    {
     "name": "stdout",
     "output_type": "stream",
     "text": [
      "3574690\n"
     ]
    }
   ],
   "source": [
    "left = []\n",
    "right = []\n",
    "\n",
    "with open('../../input/2024/day1/input.txt', 'r') as f:\n",
    "    for line in f.readlines():\n",
    "        l = line.strip().split('   ')\n",
    "        left.append(int(l[0]))\n",
    "        right.append(int(l[1]))\n",
    "left = sorted(left)\n",
    "right = sorted(right)\n",
    "\n",
    "#print(left)\n",
    "#print(right)\n",
    "\n",
    "diff = 0\n",
    "for i in range(0, len(left)):\n",
    "    diff += abs(left[i] - right[i])\n",
    "print(diff)"
   ]
  },
  {
   "cell_type": "markdown",
   "id": "e2dcd5df-f568-4833-868e-a95927705581",
   "metadata": {},
   "source": [
    "# Part 2"
   ]
  },
  {
   "cell_type": "code",
   "execution_count": 62,
   "id": "40b792b9-8d5a-412a-9894-ed95070de1cf",
   "metadata": {},
   "outputs": [
    {
     "name": "stdout",
     "output_type": "stream",
     "text": [
      "45130782\n"
     ]
    }
   ],
   "source": [
    "left = []\n",
    "right = []\n",
    "sright_occ = {}\n",
    "\n",
    "with open('../../input/2024/day1/input.txt', 'r') as f:\n",
    "    for line in f.readlines():\n",
    "        l = line.strip().split('   ')\n",
    "        left.append(int(l[0]))\n",
    "        right.append(int(l[1]))\n",
    "\n",
    "        if l[1] in right_occ:\n",
    "            right_occ[l[1]] += 1\n",
    "        else:\n",
    "            right_occ[l[1]] = 1\n",
    "\n",
    "#print(left_occ)\n",
    "#print(right_occ)\n",
    "\n",
    "similarity_score = 0\n",
    "\n",
    "for i in range(0, len(left)):\n",
    "    if str(left[i]) in right_occ:\n",
    "        similarity_score += left[i] * right_occ[str(left[i])]\n",
    "print(similarity_score)\n"
   ]
  },
  {
   "cell_type": "code",
   "execution_count": null,
   "id": "5a722970-3d4c-4c97-bf7a-cf6f08982285",
   "metadata": {},
   "outputs": [],
   "source": []
  }
 ],
 "metadata": {
  "kernelspec": {
   "display_name": "Python 3 (ipykernel)",
   "language": "python",
   "name": "python3"
  },
  "language_info": {
   "codemirror_mode": {
    "name": "ipython",
    "version": 3
   },
   "file_extension": ".py",
   "mimetype": "text/x-python",
   "name": "python",
   "nbconvert_exporter": "python",
   "pygments_lexer": "ipython3",
   "version": "3.12.7"
  }
 },
 "nbformat": 4,
 "nbformat_minor": 5
}

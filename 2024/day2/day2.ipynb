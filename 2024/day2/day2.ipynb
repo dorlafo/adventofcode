{
 "cells": [
  {
   "cell_type": "markdown",
   "id": "11c0dfdd-cb8a-42a7-86a4-7e7a712d3e99",
   "metadata": {},
   "source": [
    "## Part 1"
   ]
  },
  {
   "cell_type": "code",
   "execution_count": 47,
   "id": "aeaca69a-ddd8-47b1-981e-3069beed4d60",
   "metadata": {},
   "outputs": [
    {
     "name": "stdout",
     "output_type": "stream",
     "text": [
      "486\n"
     ]
    }
   ],
   "source": [
    "sum = 0\n",
    "\n",
    "with open('../../input/2024/day2/input.txt', 'r') as f:\n",
    "    for line in f.readlines():\n",
    "        l = line.strip()\n",
    "        #print(l)\n",
    "        nbs = l.split(' ')\n",
    "        safe = True\n",
    "        #increasing = if (int(nbs[0])-int(nbs[1]) < 0)\n",
    "        inc = 0\n",
    "        for i in range(0, len(nbs)-1):\n",
    "            n = int(nbs[i]) - int(nbs[i+1])\n",
    "            if n == 0 or abs(n) > 3:\n",
    "                #print('equal or difference to high')\n",
    "                safe = False\n",
    "                break\n",
    "            if n > 0 :\n",
    "                #print(n, ' > 0')\n",
    "                # decreasing\n",
    "                if inc >= 0:\n",
    "                    inc = n\n",
    "                else:\n",
    "                    safe = False\n",
    "                    break\n",
    "            else:\n",
    "                #print(n, ' < 0')\n",
    "                # increasing\n",
    "                if inc <= 0:\n",
    "                    inc = n\n",
    "                else:\n",
    "                    safe = False\n",
    "                    break\n",
    "        if safe:\n",
    "            #print('Safe')\n",
    "            sum += 1\n",
    "        #else:\n",
    "            #print('Unsafe')\n",
    "print(sum)"
   ]
  },
  {
   "cell_type": "markdown",
   "id": "7afbba92-945d-4ae9-abcc-743614ae3ab3",
   "metadata": {},
   "source": [
    "## Part 2"
   ]
  },
  {
   "cell_type": "code",
   "execution_count": 85,
   "id": "473c824a-af4c-4883-95e0-ce1239274feb",
   "metadata": {},
   "outputs": [
    {
     "name": "stdout",
     "output_type": "stream",
     "text": [
      "540\n"
     ]
    }
   ],
   "source": [
    "sum = 0\n",
    "\n",
    "def isSafe(nbs, depth):\n",
    "    safe = True\n",
    "    inc = 0\n",
    "    for i in range(0, len(nbs)-1):\n",
    "        n = int(nbs[i]) - int(nbs[i+1])\n",
    "        if n == 0 or abs(n) > 3:\n",
    "            safe = False\n",
    "            break\n",
    "        if n > 0 :\n",
    "            # decreasing\n",
    "            if inc >= 0:\n",
    "                inc = n\n",
    "            else:\n",
    "                safe = False\n",
    "                break\n",
    "        else:\n",
    "            # increasing\n",
    "            if inc <= 0:\n",
    "                inc = n\n",
    "            else:\n",
    "                safe = False\n",
    "                break\n",
    "    if safe:\n",
    "        return safe\n",
    "    else:\n",
    "        if depth > 0:\n",
    "            for i in range(0, len(nbs)):\n",
    "                if isSafe(nbs[:i]+nbs[i+1:], depth-1):\n",
    "                    return True\n",
    "    return False\n",
    "\n",
    "with open('../../input/2024/day2/input.txt', 'r') as f:\n",
    "    for line in f.readlines():\n",
    "        l = line.strip()\n",
    "        #print(l)\n",
    "        nbs = l.split(' ')\n",
    "        safe = isSafe(nbs, 1)\n",
    "        if safe:\n",
    "            #print('Safe')\n",
    "            sum += 1\n",
    "        #else:\n",
    "            #print('Unsafe')\n",
    "            \n",
    "print(sum)"
   ]
  },
  {
   "cell_type": "code",
   "execution_count": null,
   "id": "132be64c-fb69-494d-abb3-623d942005de",
   "metadata": {},
   "outputs": [],
   "source": []
  }
 ],
 "metadata": {
  "kernelspec": {
   "display_name": "Python 3 (ipykernel)",
   "language": "python",
   "name": "python3"
  },
  "language_info": {
   "codemirror_mode": {
    "name": "ipython",
    "version": 3
   },
   "file_extension": ".py",
   "mimetype": "text/x-python",
   "name": "python",
   "nbconvert_exporter": "python",
   "pygments_lexer": "ipython3",
   "version": "3.12.7"
  }
 },
 "nbformat": 4,
 "nbformat_minor": 5
}

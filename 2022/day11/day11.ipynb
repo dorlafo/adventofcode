{
 "cells": [
  {
   "cell_type": "markdown",
   "id": "e1d77971",
   "metadata": {},
   "source": [
    "## Part 1"
   ]
  },
  {
   "cell_type": "code",
   "execution_count": 1,
   "id": "5542aac2",
   "metadata": {},
   "outputs": [],
   "source": [
    "import numpy as np"
   ]
  },
  {
   "cell_type": "code",
   "execution_count": 2,
   "id": "bfce36c1",
   "metadata": {},
   "outputs": [],
   "source": [
    "def print_monkey(m, i):\n",
    "    print('Monkey {}:'.format(i))\n",
    "    print('  Starting items: {}'.format(m['items']))\n",
    "    print('  Operation: new = old {} {}'.format(m['op_text'][0], m['op_text'][1]))\n",
    "    print('  Test: divisible by {}'.format(m['test']))\n",
    "    print('    If true: throw to monkey {}'.format(m['action'][0]))\n",
    "    print('    If false: throw to monkey {}'.format(m['action'][1]))\n",
    "\n",
    "def print_monkeys(m):\n",
    "    for i in range(len(m)):\n",
    "        print_monkey(m[i], i)\n",
    "        print()\n",
    "        \n",
    "def square(a):\n",
    "    return a * a\n",
    "\n",
    "def add(x):\n",
    "    return lambda y: x + y\n",
    "\n",
    "def mul(x):\n",
    "    return lambda y: x * y\n",
    "        \n",
    "def init_monkeys(input_file):\n",
    "    monkeys = {}\n",
    "    curr_id = 0\n",
    "    with open(input_file, encoding=\"utf-8\") as f:\n",
    "        for line in f:\n",
    "            l = line.strip('\\n ').split(' ')\n",
    "            if l[0] == 'Monkey':\n",
    "                curr_id = int(l[1].strip(':'))\n",
    "                monkeys[curr_id] = {'items':[], 'op': None, 'op_text': [], 'test': 0, 'action': []}\n",
    "            elif  l[0] == 'Starting':\n",
    "                for el in l[2:]:\n",
    "                    monkeys[curr_id]['items'].append(int(el.strip(',')))\n",
    "            elif l[0] == 'Operation:':\n",
    "                if l[4] == '+':\n",
    "                    monkeys[curr_id]['op'] = add(int(l[5]))\n",
    "                elif l[4] == '*':\n",
    "                    if l[5] == 'old':\n",
    "                        monkeys[curr_id]['op'] = square\n",
    "                    else:\n",
    "                        monkeys[curr_id]['op'] = mul(int(l[5]))\n",
    "                monkeys[curr_id]['op_text'] = [l[4], l[5]]\n",
    "            elif l[0] == 'Test:':\n",
    "                monkeys[curr_id]['test'] = int(l[3])\n",
    "            elif l[0] == 'If':\n",
    "                monkeys[curr_id]['action'].append(int(l[5]))\n",
    "    return monkeys\n",
    "\n",
    "def turn(monkeys, m, modulo, worried=True):\n",
    "    for item in m['items']:\n",
    "        new_item = m['op'](item)\n",
    "        if worried:\n",
    "            new_item = new_item // 3\n",
    "        if new_item % m['test'] == 0:\n",
    "            monkeys[m['action'][0]]['items'].append(new_item % modulo)\n",
    "        else:\n",
    "            monkeys[m['action'][1]]['items'].append(new_item % modulo)\n",
    "    m['items'].clear()"
   ]
  },
  {
   "cell_type": "code",
   "execution_count": 3,
   "id": "f3d1a3f9",
   "metadata": {},
   "outputs": [
    {
     "name": "stdout",
     "output_type": "stream",
     "text": [
      "{0: 20, 1: 127, 2: 134, 3: 222, 4: 226, 5: 93, 6: 194, 7: 47}\n",
      "50172\n"
     ]
    }
   ],
   "source": [
    "monkeys = init_monkeys('input.txt')\n",
    "nb_monkeys = len(monkeys)\n",
    "modulo = 1\n",
    "for m in monkeys:\n",
    "    modulo *= monkeys[m]['test']\n",
    "\n",
    "#print_monkeys(monkeys)\n",
    "nb_inspection = {}\n",
    "for r in range(20):\n",
    "    for i in range(nb_monkeys):\n",
    "        if i not in nb_inspection:\n",
    "            nb_inspection[i] = 0\n",
    "        nb_inspection[i] += len(monkeys[i]['items'])\n",
    "        turn(monkeys, monkeys[i], modulo)\n",
    "        \n",
    "print(nb_inspection)\n",
    "res = []\n",
    "for e in nb_inspection:\n",
    "    res.append(nb_inspection[e])\n",
    "top_2 = np.sort(res)[-2:]\n",
    "print(np.prod(top_2, dtype=np.int64))"
   ]
  },
  {
   "cell_type": "markdown",
   "id": "9760197e",
   "metadata": {},
   "source": [
    "## Part 2"
   ]
  },
  {
   "cell_type": "code",
   "execution_count": 4,
   "id": "8ba0ec44",
   "metadata": {},
   "outputs": [
    {
     "name": "stdout",
     "output_type": "stream",
     "text": [
      "{0: 10659, 1: 70776, 2: 73630, 3: 109098, 4: 106461, 5: 62841, 6: 61442, 7: 50365}\n",
      "11614682178\n"
     ]
    }
   ],
   "source": [
    "monkeys = init_monkeys('input.txt')\n",
    "nb_monkeys = len(monkeys)\n",
    "modulo = 1\n",
    "for m in monkeys:\n",
    "    modulo *= monkeys[m]['test']\n",
    "nb_inspection = {}\n",
    "for r in range(10000):\n",
    "    for i in range(nb_monkeys):\n",
    "        if i not in nb_inspection:\n",
    "            nb_inspection[i] = 0\n",
    "        nb_inspection[i] += len(monkeys[i]['items'])\n",
    "        turn(monkeys, monkeys[i], modulo, False)\n",
    "print(nb_inspection)\n",
    "res = []\n",
    "for e in nb_inspection:\n",
    "    res.append(nb_inspection[e])\n",
    "top_2 = np.sort(res)[-2:]\n",
    "print(np.prod(top_2, dtype=np.int64))"
   ]
  }
 ],
 "metadata": {
  "kernelspec": {
   "display_name": "Python 3 (ipykernel)",
   "language": "python",
   "name": "python3"
  },
  "language_info": {
   "codemirror_mode": {
    "name": "ipython",
    "version": 3
   },
   "file_extension": ".py",
   "mimetype": "text/x-python",
   "name": "python",
   "nbconvert_exporter": "python",
   "pygments_lexer": "ipython3",
   "version": "3.9.13"
  }
 },
 "nbformat": 4,
 "nbformat_minor": 5
}

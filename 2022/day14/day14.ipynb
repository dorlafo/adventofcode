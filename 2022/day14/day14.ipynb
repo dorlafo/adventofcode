{
 "cells": [
  {
   "cell_type": "code",
   "execution_count": 1,
   "id": "e04e0976",
   "metadata": {},
   "outputs": [],
   "source": [
    "import numpy as np"
   ]
  },
  {
   "cell_type": "code",
   "execution_count": 2,
   "id": "135f33c0",
   "metadata": {},
   "outputs": [],
   "source": [
    "def parse_input(input_file):\n",
    "    minX = np.inf\n",
    "    maxX = 0\n",
    "    maxY = 0\n",
    "    lines = []\n",
    "    with open(input_file, encoding=\"utf-8\") as f:\n",
    "        for line in f:\n",
    "            l = line.strip('\\n').split(' -> ')\n",
    "            for i in range(len(l) - 1):\n",
    "                (xS, yS) = map(int, l[i].split(','))\n",
    "                (xE, yE) = map(int, l[i+1].split(','))\n",
    "\n",
    "                if xS < minX:\n",
    "                    minX = xS\n",
    "                elif xS > maxX:\n",
    "                    maxX = xS\n",
    "                if xE < minX:\n",
    "                    minX = xE\n",
    "                elif xE > maxX:\n",
    "                    maxX = xE\n",
    "\n",
    "                if yS > maxY:\n",
    "                    maxY = yS\n",
    "                if yE > maxY:\n",
    "                    maxY = yE\n",
    "\n",
    "                lines.append((xS, yS, xE, yE))\n",
    "    return lines, minX, maxX, maxY\n",
    "\n",
    "def construct_grid(lines, minX, maxX, maxY, floor=False):\n",
    "    if floor:\n",
    "        maxY += 2\n",
    "        if 500-maxY < minX:\n",
    "            minX = 500-maxY\n",
    "        if 500+maxY > maxX:\n",
    "            maxX = 500+maxY\n",
    "\n",
    "    grid = [[\".\" for i in range(maxX-minX+1)] for l in range(maxY+1)]\n",
    "    for (xS, yS, xE, yE) in lines:\n",
    "        if xS == xE: # vertical line\n",
    "            x = xS-minX\n",
    "            r = range(yE, yS+1) if (yS > yE) else range(yS, yE+1)\n",
    "            for y in r:\n",
    "                grid[y][x] = '#'\n",
    "        else: # horizontal line\n",
    "            y = yS\n",
    "            r = range(xE, xS+1) if (xS > xE) else range(xS, xE+1)\n",
    "            for x in r:\n",
    "                grid[y][x-minX] = '#'\n",
    "    # Adds sand source\n",
    "    grid[0][500-minX] = '+'\n",
    "    \n",
    "    if floor:\n",
    "        for x in range(maxX-minX+1):\n",
    "            grid[maxY][x] = '#'\n",
    "    \n",
    "    return grid, minX, maxX, maxY\n",
    "\n",
    "def draw(grid, minX, maxX, maxY):\n",
    "    # Print x values\n",
    "    h = len(str(maxX))\n",
    "    \n",
    "    for i in range(h):\n",
    "        line = ''\n",
    "        for x in range(minX, maxX+1):\n",
    "            if i < len(str(x)):\n",
    "                line += str(x)[i]\n",
    "            else:\n",
    "                line += ' '\n",
    "        print(\"  {}\".format(line))\n",
    "    # Print y values and grid\n",
    "    for y in range(maxY+1):\n",
    "        line = ''\n",
    "        for i in grid[y]:\n",
    "            line += i\n",
    "        print('{} {}'.format(y, line))\n",
    "\n",
    "def falling_sand(grid, source, minX):\n",
    "    atRest = False\n",
    "    (x, y) = source\n",
    "    while not atRest:\n",
    "        if grid[y+1][x-minX] == '.':\n",
    "            y += 1\n",
    "        elif grid[y+1][(x-minX)-1] == '.':\n",
    "            y += 1\n",
    "            x -= 1\n",
    "        elif grid[y+1][(x-minX)+1] == '.':\n",
    "            y += 1\n",
    "            x += 1\n",
    "        else:\n",
    "            atRest = True\n",
    "    grid[y][x-minX] = 'o'\n",
    "    return (x, y) != source"
   ]
  },
  {
   "cell_type": "markdown",
   "id": "067c7ac2",
   "metadata": {},
   "source": [
    "## Part 1"
   ]
  },
  {
   "cell_type": "code",
   "execution_count": 3,
   "id": "dad703e8",
   "metadata": {},
   "outputs": [],
   "source": [
    "lines, minX, maxX, maxY = parse_input('input.txt')"
   ]
  },
  {
   "cell_type": "code",
   "execution_count": 4,
   "id": "8c194cee",
   "metadata": {},
   "outputs": [],
   "source": [
    "grid, minX, maxX, maxY = construct_grid(lines, minX, maxX, maxY)"
   ]
  },
  {
   "cell_type": "code",
   "execution_count": 5,
   "id": "d3bfe4a7",
   "metadata": {
    "scrolled": true
   },
   "outputs": [
    {
     "name": "stdout",
     "output_type": "stream",
     "text": [
      "Units of sands at rest: 674\n"
     ]
    }
   ],
   "source": [
    "i = 0\n",
    "source = (500, 0)\n",
    "while True:\n",
    "    try:\n",
    "        falling_sand(grid, source, minX)\n",
    "    except IndexError:\n",
    "        print(\"Units of sands at rest:\", i)\n",
    "        break\n",
    "    i += 1"
   ]
  },
  {
   "cell_type": "markdown",
   "id": "71dd3327",
   "metadata": {},
   "source": [
    "## Part 2"
   ]
  },
  {
   "cell_type": "code",
   "execution_count": 6,
   "id": "31c28ee3",
   "metadata": {},
   "outputs": [],
   "source": [
    "lines, minX, maxX, maxY = parse_input('input.txt')"
   ]
  },
  {
   "cell_type": "code",
   "execution_count": 7,
   "id": "03229a5a",
   "metadata": {},
   "outputs": [],
   "source": [
    "grid, minX, maxX, maxY = construct_grid(lines, minX, maxX, maxY, floor=True)"
   ]
  },
  {
   "cell_type": "code",
   "execution_count": 8,
   "id": "aa836e7b",
   "metadata": {},
   "outputs": [
    {
     "name": "stdout",
     "output_type": "stream",
     "text": [
      "Units of sands at rest: 24958\n"
     ]
    }
   ],
   "source": [
    "i = 0\n",
    "source = (500, 0)\n",
    "while True:\n",
    "    try:\n",
    "        if not falling_sand(grid, source, minX):\n",
    "            print(\"Units of sands at rest:\", i+1)\n",
    "            break\n",
    "    except IndexError:\n",
    "        print(\"Units of sands at rest:\", i)\n",
    "        break\n",
    "    i += 1"
   ]
  }
 ],
 "metadata": {
  "kernelspec": {
   "display_name": "Python 3 (ipykernel)",
   "language": "python",
   "name": "python3"
  },
  "language_info": {
   "codemirror_mode": {
    "name": "ipython",
    "version": 3
   },
   "file_extension": ".py",
   "mimetype": "text/x-python",
   "name": "python",
   "nbconvert_exporter": "python",
   "pygments_lexer": "ipython3",
   "version": "3.9.13"
  }
 },
 "nbformat": 4,
 "nbformat_minor": 5
}

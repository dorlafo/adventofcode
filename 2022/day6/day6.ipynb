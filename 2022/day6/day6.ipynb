{
 "cells": [
  {
   "cell_type": "markdown",
   "id": "9a6a2d9b",
   "metadata": {},
   "source": [
    "## Part 1"
   ]
  },
  {
   "cell_type": "code",
   "execution_count": 1,
   "id": "53db57eb",
   "metadata": {},
   "outputs": [
    {
     "name": "stdout",
     "output_type": "stream",
     "text": [
      "1707 wpcg\n"
     ]
    }
   ],
   "source": [
    "with open('input.txt', encoding=\"utf-8\") as f:\n",
    "    line = f.read()\n",
    "for l in range(len(line)-4):\n",
    "    chars = line[l:l+4]\n",
    "    if chars[0] != chars[1] and chars[0] != chars[2] and chars[0] != chars[3] and chars[1] != chars[2] and chars[1] != chars[3] and chars[2] != chars[3]:\n",
    "        print(l+4, chars)\n",
    "        break"
   ]
  },
  {
   "cell_type": "markdown",
   "id": "01e41208",
   "metadata": {},
   "source": [
    "## Part 2"
   ]
  },
  {
   "cell_type": "code",
   "execution_count": 2,
   "id": "f6158d51",
   "metadata": {},
   "outputs": [
    {
     "name": "stdout",
     "output_type": "stream",
     "text": [
      "3697 gjsmptzbclfdnw\n"
     ]
    }
   ],
   "source": [
    "with open('input.txt', encoding=\"utf-8\") as f:\n",
    "    line = f.read()\n",
    "for l in range(len(line)-14):\n",
    "    chars = line[l:l+14]\n",
    "    m = {}\n",
    "    found = False\n",
    "    for c in chars:\n",
    "        if m.get(c) != None:\n",
    "            found = False\n",
    "            break\n",
    "        else:\n",
    "            m[c] = {''}\n",
    "            found = True\n",
    "    if found:\n",
    "        print(l+14, chars)\n",
    "        break\n"
   ]
  }
 ],
 "metadata": {
  "kernelspec": {
   "display_name": "Python 3 (ipykernel)",
   "language": "python",
   "name": "python3"
  },
  "language_info": {
   "codemirror_mode": {
    "name": "ipython",
    "version": 3
   },
   "file_extension": ".py",
   "mimetype": "text/x-python",
   "name": "python",
   "nbconvert_exporter": "python",
   "pygments_lexer": "ipython3",
   "version": "3.9.13"
  }
 },
 "nbformat": 4,
 "nbformat_minor": 5
}

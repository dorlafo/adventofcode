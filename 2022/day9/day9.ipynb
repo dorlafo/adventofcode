{
 "cells": [
  {
   "cell_type": "markdown",
   "id": "f0471acd",
   "metadata": {},
   "source": [
    "## Part 1"
   ]
  },
  {
   "cell_type": "code",
   "execution_count": 1,
   "id": "2b8776ed",
   "metadata": {},
   "outputs": [],
   "source": [
    "def move(e, direction):\n",
    "    if direction == 'L':\n",
    "        e[0] = e[0] - 1\n",
    "    elif direction == 'R':\n",
    "        e[0] = e[0] + 1\n",
    "    elif direction == 'D':\n",
    "        e[1] = e[1] - 1\n",
    "    elif direction == 'U':\n",
    "        e[1] = e[1] + 1\n",
    "\n",
    "def is_touching(head, tail):\n",
    "    if head[0] == tail[0] + 1 or head[0] == tail[0] - 1 or head[0] == tail[0]:\n",
    "        if head[1] == tail[1] + 1 or head[1] == tail[1] - 1 or head[1] == tail[1]:\n",
    "            return True\n",
    "    return False"
   ]
  },
  {
   "cell_type": "code",
   "execution_count": 2,
   "id": "0271fd78",
   "metadata": {},
   "outputs": [],
   "source": [
    "def move_knot(first, second):\n",
    "    #need to move second diagonally\n",
    "    if first[0] > second[0]: # move right\n",
    "        second[0] += 1\n",
    "        if first[1] > second[1]: # move top right\n",
    "            second[1] += 1\n",
    "        elif first[1] < second[1]: # move bottom right\n",
    "            second[1] -= 1\n",
    "    elif first[0] < second[0]: # move left\n",
    "        second[0] -= 1\n",
    "        if first[1] > second[1]: # move top left\n",
    "            second[1] += 1\n",
    "        elif first[1] < second[1]: # move bottom left\n",
    "            second[1] -= 1\n",
    "    else:\n",
    "        if first[1] > second[1]: # move top\n",
    "            second[1] += 1\n",
    "        elif first[1] < second[1]: # move bottom\n",
    "            second[1] -= 1"
   ]
  },
  {
   "cell_type": "code",
   "execution_count": 3,
   "id": "1306ea77",
   "metadata": {},
   "outputs": [
    {
     "name": "stdout",
     "output_type": "stream",
     "text": [
      "5883\n"
     ]
    }
   ],
   "source": [
    "with open('input.txt', encoding=\"utf-8\") as f:\n",
    "    # pos [x, y]\n",
    "    start = [0, 0]\n",
    "    tail_positions = {\"0,0\"}\n",
    "    head = [0, 0]\n",
    "    tail = [0, 0]\n",
    "    for line in f:\n",
    "        direction, step = line.strip('\\n').split(' ')\n",
    "        for i in range(int(step)):\n",
    "            #old_head = head[:]\n",
    "            move(head, direction)\n",
    "            if not is_touching(head, tail):\n",
    "                move_knot(head, tail)\n",
    "                #tail = old_head[:]\n",
    "                tail_positions.add(str(tail[0]) + \",\" + str(tail[1]))\n",
    "        \n",
    "print(len(tail_positions))"
   ]
  },
  {
   "cell_type": "markdown",
   "id": "369ecd75",
   "metadata": {},
   "source": [
    "## Part 2"
   ]
  },
  {
   "cell_type": "code",
   "execution_count": 4,
   "id": "de0949fc",
   "metadata": {
    "scrolled": true
   },
   "outputs": [
    {
     "name": "stdout",
     "output_type": "stream",
     "text": [
      "2367\n"
     ]
    }
   ],
   "source": [
    "rope = [[0, 0], [0, 0], [0, 0], [0, 0], [0, 0], [0, 0], [0, 0], [0, 0], [0, 0], [0, 0]]\n",
    "\n",
    "with open('input.txt', encoding=\"utf-8\") as f:\n",
    "    tail_positions = {\"0,0\"}\n",
    "    for line in f:\n",
    "        direction, step = line.strip('\\n').split(' ')\n",
    "        for i in range(int(step)):\n",
    "            move(rope[0], direction)\n",
    "            for e in range(1, len(rope)):\n",
    "                if not is_touching(rope[e-1], rope[e]):\n",
    "                    move_knot(rope[e-1], rope[e])\n",
    "            tail_positions.add(str(rope[-1][0]) + \",\" + str(rope[-1][1]))\n",
    "print(len(tail_positions))"
   ]
  }
 ],
 "metadata": {
  "kernelspec": {
   "display_name": "Python 3 (ipykernel)",
   "language": "python",
   "name": "python3"
  },
  "language_info": {
   "codemirror_mode": {
    "name": "ipython",
    "version": 3
   },
   "file_extension": ".py",
   "mimetype": "text/x-python",
   "name": "python",
   "nbconvert_exporter": "python",
   "pygments_lexer": "ipython3",
   "version": "3.9.13"
  }
 },
 "nbformat": 4,
 "nbformat_minor": 5
}

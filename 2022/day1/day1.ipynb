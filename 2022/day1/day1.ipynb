{
 "cells": [
  {
   "cell_type": "markdown",
   "id": "67fe7733",
   "metadata": {},
   "source": [
    "## Part 1"
   ]
  },
  {
   "cell_type": "code",
   "execution_count": 1,
   "id": "cb4f3959",
   "metadata": {},
   "outputs": [],
   "source": [
    "import numpy as np"
   ]
  },
  {
   "cell_type": "code",
   "execution_count": 2,
   "id": "872cc449",
   "metadata": {},
   "outputs": [
    {
     "name": "stdout",
     "output_type": "stream",
     "text": [
      "71780\n"
     ]
    }
   ],
   "source": [
    "calories = []\n",
    "with open('input.txt', encoding=\"utf-8\") as f:\n",
    "    curr_cal = 0\n",
    "    for line in f:\n",
    "        if line.isspace():\n",
    "            calories.append(curr_cal)\n",
    "            curr_cal = 0\n",
    "        else:\n",
    "            curr_cal += int(line)\n",
    "            \n",
    "print(np.max(calories))"
   ]
  },
  {
   "cell_type": "markdown",
   "id": "f4520d2f",
   "metadata": {},
   "source": [
    "## Part 2"
   ]
  },
  {
   "cell_type": "code",
   "execution_count": 3,
   "id": "2b444511",
   "metadata": {},
   "outputs": [
    {
     "name": "stdout",
     "output_type": "stream",
     "text": [
      "212489\n"
     ]
    }
   ],
   "source": [
    "last_three = np.sort(calories)[-3:]\n",
    "print(np.sum(last_three))"
   ]
  },
  {
   "cell_type": "code",
   "execution_count": null,
   "id": "4b69b795",
   "metadata": {},
   "outputs": [],
   "source": []
  }
 ],
 "metadata": {
  "kernelspec": {
   "display_name": "Python 3 (ipykernel)",
   "language": "python",
   "name": "python3"
  },
  "language_info": {
   "codemirror_mode": {
    "name": "ipython",
    "version": 3
   },
   "file_extension": ".py",
   "mimetype": "text/x-python",
   "name": "python",
   "nbconvert_exporter": "python",
   "pygments_lexer": "ipython3",
   "version": "3.9.13"
  }
 },
 "nbformat": 4,
 "nbformat_minor": 5
}

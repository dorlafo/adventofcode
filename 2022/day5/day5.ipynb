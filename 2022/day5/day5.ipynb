{
 "cells": [
  {
   "cell_type": "markdown",
   "id": "15635d4f",
   "metadata": {},
   "source": [
    "## Part 1"
   ]
  },
  {
   "cell_type": "code",
   "execution_count": 1,
   "id": "6f4f1e8d",
   "metadata": {},
   "outputs": [
    {
     "name": "stdout",
     "output_type": "stream",
     "text": [
      "['H', 'F', 'B', 'F', 'N', 'W', 'Z', 'N', 'W', 'J', 'B', 'L', 'T']\n",
      "['G']\n",
      "['H', 'W']\n",
      "['V', 'S']\n",
      "['Z', 'H', 'T', 'C', 'F', 'V', 'L', 'C', 'C', 'C', 'S', 'M', 'P', 'W', 'G', 'C', 'T', 'D', 'S', 'J', 'M', 'R', 'Z', 'F', 'P', 'M']\n",
      "['Q', 'J', 'L', 'L', 'R', 'R']\n",
      "['L', 'B']\n",
      "['V', 'P']\n",
      "['D', 'N']\n"
     ]
    }
   ],
   "source": [
    "with open('input.txt', encoding=\"utf-8\") as f:\n",
    "    data = f.readlines()\n",
    "\n",
    "stacks = {\n",
    "    1: ['B', 'L', 'D', 'T', 'W', 'C', 'F', 'M'],\n",
    "    2: ['N', 'B', 'L'],\n",
    "    3: ['J', 'C', 'H', 'T', 'L', 'V'],\n",
    "    4: ['S', 'P', 'J', 'W'],\n",
    "    5: ['Z', 'S', 'C', 'F', 'T', 'L', 'R'],\n",
    "    6: ['W', 'D', 'G', 'B', 'H', 'N', 'Z'],\n",
    "    7: ['F', 'M', 'S', 'P', 'V', 'G', 'C', 'N'],\n",
    "    8: ['W', 'Q', 'R', 'J', 'F', 'V', 'C', 'Z'],\n",
    "    9: ['R', 'P', 'M', 'L', 'H']\n",
    "}    \n",
    "    \n",
    "nb_stacks = len(data[0])//4\n",
    "\n",
    "for row in data[10:]:\n",
    "    _, nb, _, start, _, end = row.split(' ')\n",
    "    nb = int(nb)\n",
    "    start = int(start)\n",
    "    end = int(end)\n",
    "    for i in range(nb):\n",
    "        stacks[end].append(stacks[start].pop())\n",
    "        \n",
    "for e in stacks:\n",
    "    print(stacks[e])\n",
    "#TGWSMRBPN"
   ]
  },
  {
   "cell_type": "markdown",
   "id": "6941dfa0",
   "metadata": {},
   "source": [
    "## Part 2"
   ]
  },
  {
   "cell_type": "code",
   "execution_count": 2,
   "id": "d6558ddd",
   "metadata": {},
   "outputs": [
    {
     "name": "stdout",
     "output_type": "stream",
     "text": [
      "['V', 'W', 'V', 'J', 'M', 'B', 'S', 'Q', 'G', 'Z', 'W', 'S', 'T']\n",
      "['Z']\n",
      "['M', 'L']\n",
      "['H', 'T']\n",
      "['C', 'P', 'L', 'C', 'F', 'V', 'B', 'M', 'D', 'R', 'H', 'N', 'W', 'D', 'N', 'P', 'B', 'G', 'F', 'H', 'Z', 'L', 'L', 'C', 'J', 'L']\n",
      "['F', 'P', 'T', 'C', 'C', 'W']\n",
      "['S', 'R']\n",
      "['R', 'N']\n",
      "['J', 'F']\n"
     ]
    }
   ],
   "source": [
    "with open('input.txt', encoding=\"utf-8\") as f:\n",
    "    data = f.readlines()\n",
    "\n",
    "stacks = {\n",
    "    1: ['B', 'L', 'D', 'T', 'W', 'C', 'F', 'M'],\n",
    "    2: ['N', 'B', 'L'],\n",
    "    3: ['J', 'C', 'H', 'T', 'L', 'V'],\n",
    "    4: ['S', 'P', 'J', 'W'],\n",
    "    5: ['Z', 'S', 'C', 'F', 'T', 'L', 'R'],\n",
    "    6: ['W', 'D', 'G', 'B', 'H', 'N', 'Z'],\n",
    "    7: ['F', 'M', 'S', 'P', 'V', 'G', 'C', 'N'],\n",
    "    8: ['W', 'Q', 'R', 'J', 'F', 'V', 'C', 'Z'],\n",
    "    9: ['R', 'P', 'M', 'L', 'H']\n",
    "}    \n",
    "    \n",
    "nb_stacks = len(data[0])//4\n",
    "\n",
    "for row in data[10:]:\n",
    "    _, nb, _, start, _, end = row.split(' ')\n",
    "    nb = int(nb)\n",
    "    start = int(start)\n",
    "    end = int(end)\n",
    "    \n",
    "    stacks[end].extend(stacks[start][-nb:])\n",
    "    del stacks[start][len(stacks[start]) - nb:]\n",
    "        \n",
    "for e in stacks:\n",
    "    print(stacks[e])\n",
    "#TZLTLWRNF"
   ]
  }
 ],
 "metadata": {
  "kernelspec": {
   "display_name": "Python 3 (ipykernel)",
   "language": "python",
   "name": "python3"
  },
  "language_info": {
   "codemirror_mode": {
    "name": "ipython",
    "version": 3
   },
   "file_extension": ".py",
   "mimetype": "text/x-python",
   "name": "python",
   "nbconvert_exporter": "python",
   "pygments_lexer": "ipython3",
   "version": "3.9.13"
  }
 },
 "nbformat": 4,
 "nbformat_minor": 5
}

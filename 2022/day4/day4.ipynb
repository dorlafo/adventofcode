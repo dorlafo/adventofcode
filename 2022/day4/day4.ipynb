{
 "cells": [
  {
   "cell_type": "markdown",
   "id": "15635d4f",
   "metadata": {},
   "source": [
    "## Part 1"
   ]
  },
  {
   "cell_type": "code",
   "execution_count": 1,
   "id": "6f4f1e8d",
   "metadata": {},
   "outputs": [
    {
     "name": "stdout",
     "output_type": "stream",
     "text": [
      "571\n"
     ]
    }
   ],
   "source": [
    "overlap = 0\n",
    "with open('input.txt', encoding=\"utf-8\") as f:\n",
    "    for line in f:\n",
    "        r1, r2 = line.split(',')\n",
    "        range1 = r1.split('-')\n",
    "        range2 = r2.split('-')\n",
    "        r1_start, r1_end = int(range1[0]), int(range1[1])\n",
    "        r2_start, r2_end = int(range2[0]), int(range2[1])\n",
    "        if (r1_start <= r2_start and r1_end >= r2_end) or (r2_start <= r1_start and r2_end >= r1_end):\n",
    "            overlap += 1\n",
    "print(overlap)"
   ]
  },
  {
   "cell_type": "markdown",
   "id": "809ae1af",
   "metadata": {},
   "source": [
    "## Part 2"
   ]
  },
  {
   "cell_type": "code",
   "execution_count": 2,
   "id": "823d4cda",
   "metadata": {},
   "outputs": [
    {
     "name": "stdout",
     "output_type": "stream",
     "text": [
      "917\n"
     ]
    }
   ],
   "source": [
    "overlap = 0\n",
    "with open('input.txt', encoding=\"utf-8\") as f:\n",
    "    for line in f:\n",
    "        r1, r2 = line.split(',')\n",
    "        range1 = r1.split('-')\n",
    "        range2 = r2.split('-')\n",
    "        r1_start, r1_end = int(range1[0]), int(range1[1])\n",
    "        r2_start, r2_end = int(range2[0]), int(range2[1])\n",
    "        #Full overlap (one englobes the other)\n",
    "        if (r1_start <= r2_start and r1_end >= r2_end) or (r2_start <= r1_start and r2_end >= r1_end):\n",
    "            overlap += 1\n",
    "        # partial overlap\n",
    "        elif (r2_start <= r1_start and r1_start <= r2_end) or (r1_start <= r2_start and r2_start <= r1_end):\n",
    "            overlap += 1\n",
    "print(overlap)"
   ]
  }
 ],
 "metadata": {
  "kernelspec": {
   "display_name": "Python 3 (ipykernel)",
   "language": "python",
   "name": "python3"
  },
  "language_info": {
   "codemirror_mode": {
    "name": "ipython",
    "version": 3
   },
   "file_extension": ".py",
   "mimetype": "text/x-python",
   "name": "python",
   "nbconvert_exporter": "python",
   "pygments_lexer": "ipython3",
   "version": "3.9.13"
  }
 },
 "nbformat": 4,
 "nbformat_minor": 5
}

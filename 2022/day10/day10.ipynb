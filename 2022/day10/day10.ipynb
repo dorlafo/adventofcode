{
 "cells": [
  {
   "cell_type": "markdown",
   "id": "463ff9a3",
   "metadata": {},
   "source": [
    "## Part 1"
   ]
  },
  {
   "cell_type": "code",
   "execution_count": 1,
   "id": "332d4cae",
   "metadata": {},
   "outputs": [],
   "source": [
    "import numpy as np"
   ]
  },
  {
   "cell_type": "code",
   "execution_count": 2,
   "id": "088f4474",
   "metadata": {},
   "outputs": [
    {
     "name": "stdout",
     "output_type": "stream",
     "text": [
      "cycle 20, X: 21\n",
      "cycle 60, X: 21\n",
      "cycle 100, X: 21\n",
      "cycle 140, X: 21\n",
      "cycle 180, X: 21\n",
      "cycle 220, X: 17\n",
      "[420, 1260, 2100, 2940, 3780, 3740]\n",
      "Total strength: 14240\n"
     ]
    }
   ],
   "source": [
    "def incr_cycle(cycle, x, signal_strength):\n",
    "    cycle += 1\n",
    "    if cycle == 20 or (cycle-20) % 40 == 0:\n",
    "        print(\"cycle {}, X: {}\".format(cycle, x))\n",
    "        signal_strength.append(cycle*x)\n",
    "    return cycle\n",
    "\n",
    "signal_strength = []\n",
    "\n",
    "with open('input.txt', encoding=\"utf-8\") as f:\n",
    "    x = 1\n",
    "    cycle = 0\n",
    "    for line in f:\n",
    "        cmd = line.strip('\\n').split(' ')\n",
    "        if cmd[0] == 'noop':\n",
    "            cycle = incr_cycle(cycle, x, signal_strength) \n",
    "        elif cmd[0] == 'addx':\n",
    "            v = int(cmd[1])\n",
    "            cycle = incr_cycle(cycle, x, signal_strength)\n",
    "            cycle = incr_cycle(cycle, x, signal_strength)\n",
    "            x += v\n",
    "print(signal_strength)\n",
    "print(\"Total strength: {}\".format(np.sum(signal_strength)))"
   ]
  },
  {
   "cell_type": "markdown",
   "id": "11ac83c5",
   "metadata": {},
   "source": [
    "## Part 2"
   ]
  },
  {
   "cell_type": "code",
   "execution_count": 3,
   "id": "7eb52334",
   "metadata": {
    "scrolled": false
   },
   "outputs": [
    {
     "name": "stdout",
     "output_type": "stream",
     "text": [
      "CRT:\n",
      "###..#....#..#.#....#..#.###..####.#..#.\n",
      "#..#.#....#..#.#....#.#..#..#....#.#..#.\n",
      "#..#.#....#..#.#....##...###....#..####.\n",
      "###..#....#..#.#....#.#..#..#..#...#..#.\n",
      "#....#....#..#.#....#.#..#..#.#....#..#.\n",
      "#....####..##..####.#..#.###..####.#..#.\n"
     ]
    }
   ],
   "source": [
    "def draw_crt(crt):\n",
    "    for row in crt:\n",
    "        r = \"\"\n",
    "        for e in row:\n",
    "            r += e\n",
    "        print(r)\n",
    "\n",
    "def incr_cycle2(cycle, x, crt):\n",
    "    row = cycle // 40\n",
    "    col = cycle % 40\n",
    "    cycle += 1\n",
    "    if col == x or col == x - 1 or col == x + 1:\n",
    "        crt[row][col] = \"#\"\n",
    "    else:\n",
    "        crt[row][col] = \".\"\n",
    "    return cycle\n",
    "\n",
    "with open('input.txt', encoding=\"utf-8\") as f:\n",
    "    x = 1\n",
    "    cycle = 0\n",
    "    crt = [ [\"-\"]*40 for i in range(6)]\n",
    "    for line in f:\n",
    "        cmd = line.strip('\\n').split(' ')\n",
    "        if cmd[0] == 'noop':\n",
    "            cycle = incr_cycle2(cycle, x, crt) \n",
    "        elif cmd[0] == 'addx':\n",
    "            v = int(cmd[1])\n",
    "            cycle = incr_cycle2(cycle, x, crt)\n",
    "            cycle = incr_cycle2(cycle, x, crt)\n",
    "            x += v\n",
    "print(\"CRT:\")\n",
    "draw_crt(crt)"
   ]
  },
  {
   "cell_type": "code",
   "execution_count": 4,
   "id": "fec44625",
   "metadata": {},
   "outputs": [
    {
     "name": "stdout",
     "output_type": "stream",
     "text": [
      "PLULKBZH\n"
     ]
    }
   ],
   "source": [
    "print(\"PLULKBZH\")"
   ]
  }
 ],
 "metadata": {
  "kernelspec": {
   "display_name": "Python 3 (ipykernel)",
   "language": "python",
   "name": "python3"
  },
  "language_info": {
   "codemirror_mode": {
    "name": "ipython",
    "version": 3
   },
   "file_extension": ".py",
   "mimetype": "text/x-python",
   "name": "python",
   "nbconvert_exporter": "python",
   "pygments_lexer": "ipython3",
   "version": "3.9.13"
  }
 },
 "nbformat": 4,
 "nbformat_minor": 5
}

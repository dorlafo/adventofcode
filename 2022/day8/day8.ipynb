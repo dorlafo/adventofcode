{
 "cells": [
  {
   "cell_type": "markdown",
   "id": "38034715",
   "metadata": {},
   "source": [
    "## Part 1"
   ]
  },
  {
   "cell_type": "code",
   "execution_count": 1,
   "id": "adc012fc",
   "metadata": {},
   "outputs": [],
   "source": [
    "import numpy as np"
   ]
  },
  {
   "cell_type": "code",
   "execution_count": 2,
   "id": "e029bb64",
   "metadata": {},
   "outputs": [],
   "source": [
    "grid = np.genfromtxt('input.txt', dtype=int, delimiter=1)"
   ]
  },
  {
   "cell_type": "code",
   "execution_count": 3,
   "id": "1faae276",
   "metadata": {},
   "outputs": [],
   "source": [
    "visible = np.zeros(grid.shape, dtype=bool)\n",
    "\n",
    "def is_visible(left, i, right):\n",
    "    if np.size(left) == 0 or np.size(right) == 0:\n",
    "        #print(left, i, right, True)\n",
    "        return True\n",
    "    if np.max(left) < i or np.max(right) < i:\n",
    "        #print(left, i, right, True)\n",
    "        return True\n",
    "    #print(left, i, right, False)\n",
    "    return False\n",
    "    "
   ]
  },
  {
   "cell_type": "code",
   "execution_count": 4,
   "id": "ebf50a60",
   "metadata": {},
   "outputs": [
    {
     "name": "stdout",
     "output_type": "stream",
     "text": [
      "1672\n"
     ]
    }
   ],
   "source": [
    "for y in range(grid.shape[0]):\n",
    "    for x in range(grid.shape[1]):\n",
    "        #print(\"elem=\", grid[y,x])\n",
    "        #print(\"row=\", grid[y])\n",
    "        #print(\"col=\", grid[:, x])\n",
    "        visible[y,x] = is_visible(grid[y][:x], grid[y,x], grid[y][x+1:]) or is_visible(grid[:, x][:y], grid[y,x], grid[:,x][y+1:])\n",
    "        #print(\"[{}, {}]: {}, {}\".format(y, x, grid[y,x], visible[y,x]))\n",
    "        \n",
    "    #print()\n",
    "print(np.sum(visible))"
   ]
  },
  {
   "cell_type": "markdown",
   "id": "02c66b07",
   "metadata": {},
   "source": [
    "## Part 2"
   ]
  },
  {
   "cell_type": "code",
   "execution_count": 5,
   "id": "2be7ece2",
   "metadata": {},
   "outputs": [
    {
     "name": "stdout",
     "output_type": "stream",
     "text": [
      "327180.0\n"
     ]
    }
   ],
   "source": [
    "scenic_score = np.zeros(grid.shape)\n",
    "\n",
    "def get_scenic_score(left, i, right):\n",
    "    if np.size(left) == 0 or np.size(right) == 0:\n",
    "        #print(left, i, right, 0)\n",
    "        return 0\n",
    "    score_left = 0\n",
    "    for el in range(left.size-1, -1, -1):\n",
    "        score_left += 1\n",
    "        if left[el] >= i:\n",
    "            break\n",
    "    score_right = 0\n",
    "    for el in range(right.size):\n",
    "        score_right += 1\n",
    "        if right[el] >= i:\n",
    "            break\n",
    "    #print(left, i, right, score_left, score_right)\n",
    "    return score_left * score_right\n",
    "            \n",
    "for y in range(grid.shape[0]):\n",
    "    for x in range(grid.shape[1]):\n",
    "        scenic_score[y,x] = get_scenic_score(grid[y][:x], grid[y,x], grid[y][x+1:]) * get_scenic_score(grid[:, x][:y], grid[y,x], grid[:,x][y+1:])\n",
    "        #print(\"[{}, {}]: {} -----> {}\".format(y, x, grid[y,x], scenic_score[y,x]))\n",
    "        \n",
    "    #print()\n",
    "print(np.max(scenic_score))"
   ]
  }
 ],
 "metadata": {
  "kernelspec": {
   "display_name": "Python 3 (ipykernel)",
   "language": "python",
   "name": "python3"
  },
  "language_info": {
   "codemirror_mode": {
    "name": "ipython",
    "version": 3
   },
   "file_extension": ".py",
   "mimetype": "text/x-python",
   "name": "python",
   "nbconvert_exporter": "python",
   "pygments_lexer": "ipython3",
   "version": "3.9.13"
  }
 },
 "nbformat": 4,
 "nbformat_minor": 5
}

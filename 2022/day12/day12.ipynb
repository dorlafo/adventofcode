{
 "cells": [
  {
   "cell_type": "code",
   "execution_count": 1,
   "id": "c0b1640f",
   "metadata": {},
   "outputs": [],
   "source": [
    "import numpy as np\n",
    "import heapq"
   ]
  },
  {
   "cell_type": "code",
   "execution_count": 2,
   "id": "c7da77c7",
   "metadata": {},
   "outputs": [],
   "source": [
    "def can_move(a, b):\n",
    "    if a == 'E':\n",
    "        a = 'z'\n",
    "    elif a == 'S':\n",
    "        a = 'a'\n",
    "    if b == 'E':\n",
    "        b = 'z'\n",
    "    elif b == 'S':\n",
    "        b = 'a'\n",
    "    return ord(a) + 1 >= ord(b)\n",
    "\n",
    "def create_edges(grid):\n",
    "    edges = {}\n",
    "    for col in range(grid.shape[0]):\n",
    "        for row in range(grid.shape[1]):\n",
    "            coord = (col, row)\n",
    "            if coord[0] > 0 and can_move(grid[coord], grid[coord[0]-1, coord[1]]):\n",
    "                #can move up\n",
    "                if coord in edges:\n",
    "                    edges[coord].append((coord[0]-1, coord[1]))\n",
    "                else:\n",
    "                    edges[coord] = [(coord[0]-1, coord[1])]\n",
    "            if coord[1] > 0 and can_move(grid[coord], grid[coord[0], coord[1]-1]):\n",
    "                #can move left\n",
    "                if coord in edges:\n",
    "                    edges[coord].append((coord[0], coord[1]-1))\n",
    "                else:\n",
    "                    edges[coord] = [(coord[0], coord[1]-1)]\n",
    "            if coord[0] < grid.shape[0]-1 and can_move(grid[coord], grid[coord[0]+1, coord[1]]):\n",
    "                #can move right\n",
    "                if coord in edges:\n",
    "                    edges[coord].append((coord[0]+1, coord[1]))\n",
    "                else:\n",
    "                    edges[coord] = [(coord[0]+1, coord[1])]\n",
    "            if coord[1] < grid.shape[1]-1 and can_move(grid[coord], grid[coord[0], coord[1]+1]):\n",
    "                #can move down\n",
    "                if coord in edges:\n",
    "                    edges[coord].append((coord[0], coord[1]+1))\n",
    "                else:\n",
    "                    edges[coord] = [(coord[0], coord[1]+1)]\n",
    "    return edges\n",
    "\n",
    "def dijkstra_search(edges, start, goal):\n",
    "    priorityQ = []\n",
    "    heapq.heappush(priorityQ, (0, start))\n",
    "    came_from = {}\n",
    "    cost_so_far = {}\n",
    "    came_from[start] = None\n",
    "    cost_so_far[start] = 0\n",
    "    \n",
    "    while priorityQ:\n",
    "        current = heapq.heappop(priorityQ)[1]\n",
    "        \n",
    "        if current == goal:\n",
    "            break\n",
    "        \n",
    "        for neighbor in edges[current]:\n",
    "            new_cost = cost_so_far[current] + 1 # + 1 since all cost are 1  here\n",
    "            if neighbor not in cost_so_far or new_cost < cost_so_far[neighbor]:\n",
    "                cost_so_far[neighbor] = new_cost\n",
    "                heapq.heappush(priorityQ, (new_cost, neighbor))\n",
    "                came_from[neighbor] = current\n",
    "    \n",
    "    return came_from, cost_so_far\n",
    "\n",
    "def reconstruct_path(came_from, start, goal):\n",
    "    current = goal\n",
    "    path = []\n",
    "    if goal not in came_from:\n",
    "        return []\n",
    "    while current != start:\n",
    "        path.append(current)\n",
    "        current = came_from[current]\n",
    "    return path"
   ]
  },
  {
   "cell_type": "markdown",
   "id": "ebd19369",
   "metadata": {},
   "source": [
    "## Part 1"
   ]
  },
  {
   "cell_type": "code",
   "execution_count": 3,
   "id": "a0c4ab0c",
   "metadata": {},
   "outputs": [
    {
     "name": "stdout",
     "output_type": "stream",
     "text": [
      "370\n"
     ]
    }
   ],
   "source": [
    "grid = np.genfromtxt('input.txt', dtype=str, delimiter=1)\n",
    "edges = create_edges(grid)\n",
    "r,c = np.where(grid == 'S')\n",
    "start = (r[0], c[0])\n",
    "r,c = np.where(grid == 'E')\n",
    "goal = (r[0], c[0])\n",
    "\n",
    "came_from, cost_so_far = dijkstra_search(edges, start, goal)\n",
    "shortest_path = reconstruct_path(came_from, start, goal)\n",
    "\n",
    "print(len(shortest_path))"
   ]
  },
  {
   "cell_type": "markdown",
   "id": "c303b868",
   "metadata": {},
   "source": [
    "## Part 2"
   ]
  },
  {
   "cell_type": "code",
   "execution_count": 4,
   "id": "560bb9d1",
   "metadata": {
    "scrolled": false
   },
   "outputs": [
    {
     "name": "stdout",
     "output_type": "stream",
     "text": [
      "Min: 363\n"
     ]
    }
   ],
   "source": [
    "grid = np.genfromtxt('input.txt', dtype=str, delimiter=1)\n",
    "edges = create_edges(grid)\n",
    "r,c = np.where(grid == 'E')\n",
    "goal = (r[0], c[0])\n",
    "\n",
    "r,c = np.where(grid == 'S')\n",
    "s = (r[0], c[0])\n",
    "grid[s] = 'a'\n",
    "\n",
    "r,c = np.where(grid == 'a')\n",
    "starts = list(zip(r,c))\n",
    "\n",
    "min_steps = np.inf\n",
    "for start in starts:\n",
    "    came_from, cost_so_far = dijkstra_search(edges, start, goal)\n",
    "    shortest_path = reconstruct_path(came_from, start, goal)\n",
    "    l = len(shortest_path)\n",
    "    if l != 0:\n",
    "        if len(shortest_path) < min_steps:\n",
    "            min_steps = len(shortest_path)\n",
    "print(\"Min:\", min_steps)"
   ]
  }
 ],
 "metadata": {
  "kernelspec": {
   "display_name": "Python 3 (ipykernel)",
   "language": "python",
   "name": "python3"
  },
  "language_info": {
   "codemirror_mode": {
    "name": "ipython",
    "version": 3
   },
   "file_extension": ".py",
   "mimetype": "text/x-python",
   "name": "python",
   "nbconvert_exporter": "python",
   "pygments_lexer": "ipython3",
   "version": "3.9.13"
  }
 },
 "nbformat": 4,
 "nbformat_minor": 5
}

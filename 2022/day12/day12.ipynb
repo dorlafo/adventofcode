{
 "cells": [
  {
   "cell_type": "code",
   "execution_count": 1,
   "id": "c0b1640f",
   "metadata": {},
   "outputs": [],
   "source": [
    "import numpy as np"
   ]
  },
  {
   "cell_type": "code",
   "execution_count": 19,
   "id": "71c3385e",
   "metadata": {},
   "outputs": [],
   "source": [
    "grid = np.genfromtxt('input_test.txt', dtype=str, delimiter=1)"
   ]
  },
  {
   "cell_type": "code",
   "execution_count": 31,
   "id": "80ecea1f",
   "metadata": {},
   "outputs": [
    {
     "name": "stdout",
     "output_type": "stream",
     "text": [
      "0 0 2 5\n"
     ]
    }
   ],
   "source": [
    "# row = y, col = x. array[y, x]\n",
    "# nb row = shape[0], col = shape[1]\n",
    "\n",
    "row, col = np.where(grid == 'S')\n",
    "s_row = row[0]\n",
    "s_col = col[0]\n",
    "row, col = np.where(grid == 'E')\n",
    "e_row = row[0]\n",
    "e_col = col[0]\n",
    "print(s_row, s_col, e_row, e_col)"
   ]
  },
  {
   "cell_type": "code",
   "execution_count": 43,
   "id": "d1460ecf",
   "metadata": {},
   "outputs": [],
   "source": [
    "def can_move(a, b):\n",
    "    if a == 'E':\n",
    "        a = 'z'\n",
    "    elif a == 'S':\n",
    "        a = 'a'\n",
    "    return ord(a) + 1 >= ord(b)"
   ]
  },
  {
   "cell_type": "code",
   "execution_count": 44,
   "id": "c0fe03b0",
   "metadata": {},
   "outputs": [
    {
     "name": "stdout",
     "output_type": "stream",
     "text": [
      "Path: [[0, 0]]\n",
      "can move right. New path: [[0, 0], [1, 0]]\n",
      "can move down. New path: [[0, 0], [1, 0], [0, 1]]\n",
      "Path: [[0, 0], [1, 0], [0, 1]]\n",
      "can move left. New path: [[0, 0], [1, 0], [0, 1], [0, 0]]\n",
      "can move right. New path: [[0, 0], [1, 0], [0, 1], [0, 0], [1, 1]]\n",
      "can move down. New path: [[0, 0], [1, 0], [0, 1], [0, 0], [1, 1], [0, 2]]\n",
      "Path: [[0, 0], [1, 0], [0, 1], [0, 0], [1, 1], [0, 2]]\n",
      "can move left. New path: [[0, 0], [1, 0], [0, 1], [0, 0], [1, 1], [0, 2], [0, 1]]\n",
      "can move right. New path: [[0, 0], [1, 0], [0, 1], [0, 0], [1, 1], [0, 2], [0, 1], [1, 2]]\n",
      "Path: [[0, 0], [1, 0], [0, 1], [0, 0], [1, 1], [0, 2], [0, 1], [1, 2]]\n",
      "can move up. New path: [[0, 0], [1, 0], [0, 1], [0, 0], [1, 1], [0, 2], [0, 1], [1, 2], [0, 2]]\n",
      "can move left. New path: [[0, 0], [1, 0], [0, 1], [0, 0], [1, 1], [0, 2], [0, 1], [1, 2], [0, 2], [1, 1]]\n",
      "can move right. New path: [[0, 0], [1, 0], [0, 1], [0, 0], [1, 1], [0, 2], [0, 1], [1, 2], [0, 2], [1, 1], [2, 2]]\n",
      "Path: [[0, 0], [1, 0], [0, 1], [0, 0], [1, 1], [0, 2], [0, 1], [1, 2], [0, 2], [1, 1], [2, 2]]\n",
      "can move up. New path: [[0, 0], [1, 0], [0, 1], [0, 0], [1, 1], [0, 2], [0, 1], [1, 2], [0, 2], [1, 1], [2, 2], [1, 2]]\n",
      "can move left. New path: [[0, 0], [1, 0], [0, 1], [0, 0], [1, 1], [0, 2], [0, 1], [1, 2], [0, 2], [1, 1], [2, 2], [1, 2], [2, 1]]\n",
      "can move right. New path: [[0, 0], [1, 0], [0, 1], [0, 0], [1, 1], [0, 2], [0, 1], [1, 2], [0, 2], [1, 1], [2, 2], [1, 2], [2, 1], [3, 2]]\n",
      "Path: [[0, 0], [1, 0], [0, 1], [0, 0], [1, 1], [0, 2], [0, 1], [1, 2], [0, 2], [1, 1], [2, 2], [1, 2], [2, 1], [3, 2]]\n",
      "can move up. New path: [[0, 0], [1, 0], [0, 1], [0, 0], [1, 1], [0, 2], [0, 1], [1, 2], [0, 2], [1, 1], [2, 2], [1, 2], [2, 1], [3, 2], [2, 2]]\n",
      "can move left. New path: [[0, 0], [1, 0], [0, 1], [0, 0], [1, 1], [0, 2], [0, 1], [1, 2], [0, 2], [1, 1], [2, 2], [1, 2], [2, 1], [3, 2], [2, 2], [3, 1]]\n",
      "can move right. New path: [[0, 0], [1, 0], [0, 1], [0, 0], [1, 1], [0, 2], [0, 1], [1, 2], [0, 2], [1, 1], [2, 2], [1, 2], [2, 1], [3, 2], [2, 2], [3, 1], [4, 2]]\n",
      "Path: [[0, 0], [1, 0], [0, 1], [0, 0], [1, 1], [0, 2], [0, 1], [1, 2], [0, 2], [1, 1], [2, 2], [1, 2], [2, 1], [3, 2], [2, 2], [3, 1], [4, 2]]\n",
      "can move up. New path: [[0, 0], [1, 0], [0, 1], [0, 0], [1, 1], [0, 2], [0, 1], [1, 2], [0, 2], [1, 1], [2, 2], [1, 2], [2, 1], [3, 2], [2, 2], [3, 1], [4, 2], [3, 2]]\n",
      "can move left. New path: [[0, 0], [1, 0], [0, 1], [0, 0], [1, 1], [0, 2], [0, 1], [1, 2], [0, 2], [1, 1], [2, 2], [1, 2], [2, 1], [3, 2], [2, 2], [3, 1], [4, 2], [3, 2], [4, 1]]\n"
     ]
    },
    {
     "ename": "IndexError",
     "evalue": "index 5 is out of bounds for axis 0 with size 5",
     "output_type": "error",
     "traceback": [
      "\u001b[1;31m---------------------------------------------------------------------------\u001b[0m",
      "\u001b[1;31mIndexError\u001b[0m                                Traceback (most recent call last)",
      "\u001b[1;32m~\\AppData\\Local\\Temp\\ipykernel_25020\\30908231.py\u001b[0m in \u001b[0;36m<module>\u001b[1;34m\u001b[0m\n\u001b[0;32m     17\u001b[0m             \u001b[0mp\u001b[0m\u001b[1;33m.\u001b[0m\u001b[0mappend\u001b[0m\u001b[1;33m(\u001b[0m\u001b[1;33m[\u001b[0m\u001b[0mcurr_pos\u001b[0m\u001b[1;33m[\u001b[0m\u001b[1;36m0\u001b[0m\u001b[1;33m]\u001b[0m\u001b[1;33m,\u001b[0m \u001b[0mcurr_pos\u001b[0m\u001b[1;33m[\u001b[0m\u001b[1;36m1\u001b[0m\u001b[1;33m]\u001b[0m\u001b[1;33m-\u001b[0m\u001b[1;36m1\u001b[0m\u001b[1;33m]\u001b[0m\u001b[1;33m)\u001b[0m\u001b[1;33m\u001b[0m\u001b[1;33m\u001b[0m\u001b[0m\n\u001b[0;32m     18\u001b[0m             \u001b[0mprint\u001b[0m\u001b[1;33m(\u001b[0m\u001b[1;34m\"can move left. New path:\"\u001b[0m\u001b[1;33m,\u001b[0m \u001b[0mp\u001b[0m\u001b[1;33m)\u001b[0m\u001b[1;33m\u001b[0m\u001b[1;33m\u001b[0m\u001b[0m\n\u001b[1;32m---> 19\u001b[1;33m         \u001b[1;32mif\u001b[0m \u001b[0mcurr_pos\u001b[0m\u001b[1;33m[\u001b[0m\u001b[1;36m0\u001b[0m\u001b[1;33m]\u001b[0m \u001b[1;33m<\u001b[0m \u001b[0mgrid\u001b[0m\u001b[1;33m.\u001b[0m\u001b[0mshape\u001b[0m\u001b[1;33m[\u001b[0m\u001b[1;36m0\u001b[0m\u001b[1;33m]\u001b[0m \u001b[1;32mand\u001b[0m \u001b[0mcan_move\u001b[0m\u001b[1;33m(\u001b[0m\u001b[0mgrid\u001b[0m\u001b[1;33m[\u001b[0m\u001b[0mcurr_pos\u001b[0m\u001b[1;33m[\u001b[0m\u001b[1;36m0\u001b[0m\u001b[1;33m]\u001b[0m\u001b[1;33m,\u001b[0m \u001b[0mcurr_pos\u001b[0m\u001b[1;33m[\u001b[0m\u001b[1;36m1\u001b[0m\u001b[1;33m]\u001b[0m\u001b[1;33m]\u001b[0m\u001b[1;33m,\u001b[0m \u001b[0mgrid\u001b[0m\u001b[1;33m[\u001b[0m\u001b[0mcurr_pos\u001b[0m\u001b[1;33m[\u001b[0m\u001b[1;36m0\u001b[0m\u001b[1;33m]\u001b[0m\u001b[1;33m+\u001b[0m\u001b[1;36m1\u001b[0m\u001b[1;33m,\u001b[0m \u001b[0mcurr_pos\u001b[0m\u001b[1;33m[\u001b[0m\u001b[1;36m1\u001b[0m\u001b[1;33m]\u001b[0m\u001b[1;33m]\u001b[0m\u001b[1;33m)\u001b[0m\u001b[1;33m:\u001b[0m\u001b[1;33m\u001b[0m\u001b[1;33m\u001b[0m\u001b[0m\n\u001b[0m\u001b[0;32m     20\u001b[0m             \u001b[1;31m#move right\u001b[0m\u001b[1;33m\u001b[0m\u001b[1;33m\u001b[0m\u001b[0m\n\u001b[0;32m     21\u001b[0m             \u001b[0mp\u001b[0m\u001b[1;33m.\u001b[0m\u001b[0mappend\u001b[0m\u001b[1;33m(\u001b[0m\u001b[1;33m[\u001b[0m\u001b[0mcurr_pos\u001b[0m\u001b[1;33m[\u001b[0m\u001b[1;36m0\u001b[0m\u001b[1;33m]\u001b[0m\u001b[1;33m+\u001b[0m\u001b[1;36m1\u001b[0m\u001b[1;33m,\u001b[0m \u001b[0mcurr_pos\u001b[0m\u001b[1;33m[\u001b[0m\u001b[1;36m1\u001b[0m\u001b[1;33m]\u001b[0m\u001b[1;33m]\u001b[0m\u001b[1;33m)\u001b[0m\u001b[1;33m\u001b[0m\u001b[1;33m\u001b[0m\u001b[0m\n",
      "\u001b[1;31mIndexError\u001b[0m: index 5 is out of bounds for axis 0 with size 5"
     ]
    }
   ],
   "source": [
    "found = False\n",
    "curr_pos = [s_row, s_col]\n",
    "paths = [[curr_pos]]\n",
    "\n",
    "lim = 100\n",
    "\n",
    "while not found:\n",
    "    for p in paths:\n",
    "        print(\"Path:\", p)\n",
    "        curr_pos = p[-1]\n",
    "        if curr_pos[0] > 0 and can_move(grid[curr_pos[0], curr_pos[1]], grid[curr_pos[0]-1, curr_pos[1]]):\n",
    "            #move up\n",
    "            p.append([curr_pos[0]-1, curr_pos[1]])\n",
    "            print(\"can move up. New path:\", p)\n",
    "        if curr_pos[1] > 0 and can_move(grid[curr_pos[0], curr_pos[1]], grid[curr_pos[0], curr_pos[1]-1]):\n",
    "            #move left\n",
    "            p.append([curr_pos[0], curr_pos[1]-1])\n",
    "            print(\"can move left. New path:\", p)\n",
    "        if curr_pos[0] < grid.shape[0] and can_move(grid[curr_pos[0], curr_pos[1]], grid[curr_pos[0]+1, curr_pos[1]]):\n",
    "            #move right\n",
    "            p.append([curr_pos[0]+1, curr_pos[1]])\n",
    "            print(\"can move right. New path:\", p)\n",
    "        if curr_pos[1] < grid.shape[1] and can_move(grid[curr_pos[0], curr_pos[1]], grid[curr_pos[0], curr_pos[1]+1]):\n",
    "            #move down\n",
    "            p.append([curr_pos[0], curr_pos[1]+1])\n",
    "            print(\"can move down. New path:\", p)\n",
    "        if grid[curr_pos[0], curr_pos[1]] == 'E':\n",
    "            print(\"Found\")\n",
    "            found = True\n",
    "            break\n",
    "    lim -= 1\n",
    "    if lim == 0:\n",
    "        break\n",
    "    "
   ]
  },
  {
   "cell_type": "code",
   "execution_count": 24,
   "id": "fcc7663f",
   "metadata": {},
   "outputs": [
    {
     "data": {
      "text/plain": [
       "98"
      ]
     },
     "execution_count": 24,
     "metadata": {},
     "output_type": "execute_result"
    }
   ],
   "source": [
    "ord('a')\n",
    "ord('b')"
   ]
  },
  {
   "cell_type": "code",
   "execution_count": 27,
   "id": "8cdab652",
   "metadata": {},
   "outputs": [
    {
     "data": {
      "text/plain": [
       "69"
      ]
     },
     "execution_count": 27,
     "metadata": {},
     "output_type": "execute_result"
    }
   ],
   "source": [
    "ord('S')\n",
    "ord('E')"
   ]
  },
  {
   "cell_type": "code",
   "execution_count": 40,
   "id": "95be2dce",
   "metadata": {},
   "outputs": [
    {
     "data": {
      "text/plain": [
       "83"
      ]
     },
     "execution_count": 40,
     "metadata": {},
     "output_type": "execute_result"
    }
   ],
   "source": []
  },
  {
   "cell_type": "code",
   "execution_count": null,
   "id": "bb2c14f0",
   "metadata": {},
   "outputs": [],
   "source": []
  }
 ],
 "metadata": {
  "kernelspec": {
   "display_name": "Python 3 (ipykernel)",
   "language": "python",
   "name": "python3"
  },
  "language_info": {
   "codemirror_mode": {
    "name": "ipython",
    "version": 3
   },
   "file_extension": ".py",
   "mimetype": "text/x-python",
   "name": "python",
   "nbconvert_exporter": "python",
   "pygments_lexer": "ipython3",
   "version": "3.9.13"
  }
 },
 "nbformat": 4,
 "nbformat_minor": 5
}

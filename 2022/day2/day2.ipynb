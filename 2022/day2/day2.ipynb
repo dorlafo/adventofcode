{
 "cells": [
  {
   "cell_type": "code",
   "execution_count": 1,
   "id": "b0cca26d",
   "metadata": {},
   "outputs": [],
   "source": [
    "import numpy as np"
   ]
  },
  {
   "cell_type": "markdown",
   "id": "c96d240f",
   "metadata": {},
   "source": [
    "## Part 1"
   ]
  },
  {
   "cell_type": "code",
   "execution_count": 2,
   "id": "18fb20a3",
   "metadata": {},
   "outputs": [],
   "source": [
    "my_move = {'X': 1, 'Y': 2, 'Z': 3}\n",
    "\n",
    "score = {'X' : {'A': 3, 'B': 0, 'C': 6},\n",
    "\n",
    "'Y' : {'A': 6, 'B': 3, 'C': 0},\n",
    "\n",
    "'Z' : {'A': 0, 'B': 6, 'C': 3}}"
   ]
  },
  {
   "cell_type": "code",
   "execution_count": 3,
   "id": "9029d48c",
   "metadata": {},
   "outputs": [],
   "source": [
    "def get_total_score(opponent, me):\n",
    "    return my_move[me] + score[me][opponent]"
   ]
  },
  {
   "cell_type": "code",
   "execution_count": 4,
   "id": "59437910",
   "metadata": {},
   "outputs": [
    {
     "name": "stdout",
     "output_type": "stream",
     "text": [
      "12276\n"
     ]
    }
   ],
   "source": [
    "total_score = 0\n",
    "with open('input.txt', encoding=\"utf-8\") as f:\n",
    "    for line in f:\n",
    "       total_score += get_total_score(line[0], line[2])\n",
    "print(total_score)"
   ]
  },
  {
   "cell_type": "markdown",
   "id": "3f4ab3d3",
   "metadata": {},
   "source": [
    "## Part 2\n",
    "\n",
    "X means you need to lose, Y means you need to end the round in a draw, and Z means you need to win"
   ]
  },
  {
   "cell_type": "code",
   "execution_count": 5,
   "id": "8286d322",
   "metadata": {},
   "outputs": [],
   "source": [
    "move_to_do = {'A': {'X': 'Z', 'Y': 'X', 'Z': 'Y'}, 'B': {'X': 'X', 'Y': 'Y', 'Z': 'Z'}, 'C': {'X': 'Y', 'Y': 'Z', 'Z': 'X'}}\n",
    "def get_total_score2(opponent, result):\n",
    "    me = move_to_do[opponent][result]\n",
    "    return get_total_score(opponent, me)\n"
   ]
  },
  {
   "cell_type": "code",
   "execution_count": 6,
   "id": "3aee6b39",
   "metadata": {},
   "outputs": [
    {
     "name": "stdout",
     "output_type": "stream",
     "text": [
      "9975\n"
     ]
    }
   ],
   "source": [
    "total_score = 0\n",
    "with open('input.txt', encoding=\"utf-8\") as f:\n",
    "    for line in f:\n",
    "       total_score += get_total_score2(line[0], line[2])\n",
    "print(total_score)"
   ]
  },
  {
   "cell_type": "code",
   "execution_count": null,
   "id": "8e11d369",
   "metadata": {},
   "outputs": [],
   "source": []
  }
 ],
 "metadata": {
  "kernelspec": {
   "display_name": "Python 3 (ipykernel)",
   "language": "python",
   "name": "python3"
  },
  "language_info": {
   "codemirror_mode": {
    "name": "ipython",
    "version": 3
   },
   "file_extension": ".py",
   "mimetype": "text/x-python",
   "name": "python",
   "nbconvert_exporter": "python",
   "pygments_lexer": "ipython3",
   "version": "3.9.13"
  }
 },
 "nbformat": 4,
 "nbformat_minor": 5
}

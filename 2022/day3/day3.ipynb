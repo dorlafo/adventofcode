{
 "cells": [
  {
   "cell_type": "code",
   "execution_count": 1,
   "id": "fc4c6f37",
   "metadata": {},
   "outputs": [],
   "source": [
    "import numpy as np"
   ]
  },
  {
   "cell_type": "markdown",
   "id": "e2e2b716",
   "metadata": {},
   "source": [
    "## Part 1"
   ]
  },
  {
   "cell_type": "code",
   "execution_count": 2,
   "id": "48e6d64c",
   "metadata": {},
   "outputs": [],
   "source": [
    "def find_common_letter(str1, str2):\n",
    "    for l in str1:\n",
    "        if l in str2:\n",
    "            return l\n",
    "        \n",
    "def get_priority(l):\n",
    "    if l.islower():\n",
    "        return ord(l)-96\n",
    "    else:\n",
    "        return ord(l)-38"
   ]
  },
  {
   "cell_type": "code",
   "execution_count": 3,
   "id": "29829e4a",
   "metadata": {},
   "outputs": [
    {
     "name": "stdout",
     "output_type": "stream",
     "text": [
      "7917\n"
     ]
    }
   ],
   "source": [
    "priorities = 0\n",
    "with open('input.txt', encoding=\"utf-8\") as f:\n",
    "    for line in f:\n",
    "        length = len(line)\n",
    "        first_compartiment = line[:length//2]\n",
    "        second_compartiment = line[length//2:]\n",
    "        common_letter = find_common_letter(first_compartiment, second_compartiment)\n",
    "        priority = get_priority(common_letter)\n",
    "        priorities += priority\n",
    "print(priorities)"
   ]
  },
  {
   "cell_type": "markdown",
   "id": "1d7c32d6",
   "metadata": {},
   "source": [
    "## Part 2"
   ]
  },
  {
   "cell_type": "code",
   "execution_count": 4,
   "id": "c3feddaa",
   "metadata": {},
   "outputs": [],
   "source": [
    "def find_common_letter(str1, str2, str3):\n",
    "    for l in str1:\n",
    "        if l in str2 and l in str3:\n",
    "            return l"
   ]
  },
  {
   "cell_type": "code",
   "execution_count": 5,
   "id": "5001a436",
   "metadata": {},
   "outputs": [
    {
     "name": "stdout",
     "output_type": "stream",
     "text": [
      "2585\n"
     ]
    }
   ],
   "source": [
    "priorities = 0\n",
    "idx = 0\n",
    "with open('input.txt', encoding=\"utf-8\") as f:\n",
    "    for line in f:\n",
    "        if idx % 3 == 0:\n",
    "            str1 = line\n",
    "        elif idx % 3 == 1:\n",
    "            str2 = line\n",
    "        else:\n",
    "            str3 = line\n",
    "            common_letter = find_common_letter(str1, str2, str3)\n",
    "            priority = get_priority(common_letter)\n",
    "            priorities += priority\n",
    "        idx += 1\n",
    "print(priorities)\n",
    "        "
   ]
  }
 ],
 "metadata": {
  "kernelspec": {
   "display_name": "Python 3 (ipykernel)",
   "language": "python",
   "name": "python3"
  },
  "language_info": {
   "codemirror_mode": {
    "name": "ipython",
    "version": 3
   },
   "file_extension": ".py",
   "mimetype": "text/x-python",
   "name": "python",
   "nbconvert_exporter": "python",
   "pygments_lexer": "ipython3",
   "version": "3.9.13"
  }
 },
 "nbformat": 4,
 "nbformat_minor": 5
}
